{
  "cells": [
    {
      "cell_type": "code",
      "execution_count": 1,
      "id": "c4afb812",
      "metadata": {
        "id": "c4afb812"
      },
      "outputs": [],
      "source": [
        "from typing import List\n",
        "from collections import Counter\n",
        "\n",
        "import numpy as np\n",
        "from numpy.linalg import norm as numpy_euclidean_norm\n",
        "import sklearn\n",
        "from matplotlib import pyplot as plt\n",
        "import pandas as pd\n",
        "from sklearn.metrics import accuracy_score, f1_score, roc_auc_score, precision_score\n",
        "from sklearn import metrics\n",
        "from sklearn.preprocessing import OneHotEncoder\n",
        "from sklearn import datasets\n",
        "import plotly.express as px\n",
        "from sklearn.neighbors import KNeighborsClassifier\n",
        "from matplotlib.colors import ListedColormap\n",
        "from matplotlib import pyplot"
      ]
    },
    {
      "cell_type": "markdown",
      "id": "cb97be65-37cd-4624-9518-d103247f2796",
      "metadata": {
        "id": "cb97be65-37cd-4624-9518-d103247f2796"
      },
      "source": [
        "### Реализуем kNN-классификатор"
      ]
    },
    {
      "cell_type": "markdown",
      "id": "48a1eebf-a900-4543-8245-fec1a70e142f",
      "metadata": {
        "id": "48a1eebf-a900-4543-8245-fec1a70e142f"
      },
      "source": [
        "Для оценки близости будем использовать Евклидову метрику расстояния. Количеcтво рассматриваемых соседей задается параметром **k_neighbours**."
      ]
    },
    {
      "cell_type": "markdown",
      "id": "95b6ff4c",
      "metadata": {
        "id": "95b6ff4c"
      },
      "source": [
        "### Voting Euclidean Classifier\n",
        "\n",
        "Для начала реализуем наивную и базовую версию kNN-классификатора -- Voting Classifier c Евклидовой метрикой.\n",
        "\n",
        "Все, что он делает -- выявляет среди **k_neighbours** cocедей представителей превалирующего класса и предсказывает для оцениваемого семпла метку этого превалирующего класса.\n",
        "\n",
        "Наивность заключается в том, что часто могут быть ситуации \"50/50\", особенно в случае бинарной классификации. В таких случаях модель может ошибочно предсказывать неверный класс.\n",
        "\n",
        "Эта ситуация показана на рисунке (при K=4):"
      ]
    },
    {
      "cell_type": "markdown",
      "id": "c2c62bc5",
      "metadata": {
        "id": "c2c62bc5"
      },
      "source": [
        "![knn_example.png](knn_example.png)"
      ]
    },
    {
      "cell_type": "code",
      "execution_count": 2,
      "id": "79a69be6-8cd6-4350-89ab-5b3345bc7288",
      "metadata": {
        "id": "79a69be6-8cd6-4350-89ab-5b3345bc7288"
      },
      "outputs": [],
      "source": [
        "class KNNVotingClassifier:\n",
        "    def __init__(self, k_neighbours: int, metric: str = 'euclidean'):\n",
        "        self._allowed_metrics = {\n",
        "            'euclidean': lambda x, y: numpy_euclidean_norm(x - y),\n",
        "        }\n",
        "\n",
        "        assert metric in self._allowed_metrics, f\"Metric should be one of the {self._allowed_metrics.keys()}, got {metric}\"\n",
        "\n",
        "        self._metric = self._allowed_metrics[metric]\n",
        "        self._k_neighbours = k_neighbours\n",
        "\n",
        "        self._X, self._y = None, None\n",
        "\n",
        "    def fit(self, X: np.array, y: np.array) -> None:\n",
        "        '''\n",
        "        When fit() method called -- model just saves the Xs and ys\n",
        "        '''\n",
        "        self._X = X\n",
        "        self._y = y\n",
        "\n",
        "    def predict(self, X: np.array) -> np.array:\n",
        "        '''Non-optimized version (python loop-based)'''\n",
        "\n",
        "        # Assertion check -- if model is fitted or not\n",
        "        assert (self._X is not None and self._y is not None), f\"Model is not fitted yet!\"\n",
        "\n",
        "        ys_pred: np.array = np.zeros(shape=(X.shape[0], 1)) # Predictions matrix allocation\n",
        "\n",
        "        '''\n",
        "        For each sample in X calculate distances to the points in self._X, using the self._metric()\n",
        "        calculate distances and get K nearest points.\n",
        "        '''\n",
        "        for sample_id, X_this in enumerate(X):\n",
        "            distances: List = []\n",
        "\n",
        "            for train_id, X_other in enumerate(self._X):\n",
        "                distance = self._metric(X_this, X_other)\n",
        "                distances.append({\n",
        "                    'train_id': train_id,\n",
        "                    'distance': distance,\n",
        "                })\n",
        "            sorted_distances: List = self._sort_distances(distances)\n",
        "            y_pred: int = self._get_nearest_class(sorted_distances)\n",
        "            ys_pred[sample_id] = y_pred\n",
        "\n",
        "        return ys_pred\n",
        "\n",
        "    @staticmethod\n",
        "    def _sort_distances(distances: List, ascending=False) -> List:\n",
        "        return sorted(distances, key=lambda x: x['distance'], reverse=ascending)\n",
        "\n",
        "    def _get_nearest_class(self, sorted_distances: list) -> int:\n",
        "        sorted_distances_top_k: List = sorted_distances[:self._k_neighbours]\n",
        "        labels_top_k: List = [self._y[sample['train_id']] for sample in sorted_distances_top_k]\n",
        "        predicted_label: int = self._decision_rule(labels_top_k)\n",
        "        return predicted_label\n",
        "\n",
        "    @staticmethod\n",
        "    def _decision_rule(labels_top_k: List) -> int:\n",
        "        labels_count_top_k = Counter(labels_top_k) # {label_1: label_1_num_occurences, ...}\n",
        "        sorted_labels_count_top_k: List = sorted(labels_count_top_k.items(),\n",
        "                                                 key=lambda x: x[1],\n",
        "                                                 reverse=True)\n",
        "        predicted_label: int = sorted_labels_count_top_k[0][0]\n",
        "        return predicted_label"
      ]
    },
    {
      "cell_type": "markdown",
      "id": "0df4a9ea",
      "metadata": {
        "id": "0df4a9ea"
      },
      "source": [
        "Итак, исследуем наш класс и методы, которые представлены.\n",
        "\n",
        "**Конструктор класса**\n",
        "\n",
        "`KNNVotingClassifier.__init__(self, k_neighbours: int, metric: str = 'euclidean')`\n",
        "\n",
        "Реализует логику и процесс создания экземпляра класса. Принимаем на вход необходимые **гиперпараметры** модели -- количество соседей и метрику для расчета расстояния между точками.\n",
        "\n",
        "**Метод fit**\n",
        "\n",
        "`KNNVotingClassifier.fit(self, X: np.array, y: np.array) -> None`\n",
        "\n",
        "Реализует процесс \"обучения\" нашей модели. Понятное дело, никакого явного процесса обучения в методе kNN не может быть -- поэтому мы просто сохраняем переданные значения матрицы дизайна `X: np.array` и значения целевых переменных -- `y: np.array`.\n",
        "\n",
        "**Метод predict**\n",
        "\n",
        "`KNNVotingClassifier.predict(self, X: np.array) -> np.array`\n",
        "\n",
        "Реализует метод предсказания модели. Происходит итерация по всем наблюдения (точкам) из матрицы дизайна, сохраненной во время вызова метода `fit()` и расчет расстояния до каждого из наблюдения в тестовом наборе, который подается на вход метода.\n",
        "\n",
        "Метод возвращает предсказания классов по каждому из классов.\n",
        "\n",
        "**Важно!** Эта реализация является \"плохой\" в терминах скорости выполнения и оптимальности по памяти. Ее можно значительно оптимизировать как по памяти, так и по времени выполнения.\n",
        "\n",
        "**Метод sort_distances**\n",
        "\n",
        "`KNNVotingClassifier._sort_distances(distances: List, ascending=False) -> List`\n",
        "\n",
        "Приватный метод, выполняет сортировку контейнера расстояний, создаваемый во время вызова и работы метода предсказания.\n",
        "\n",
        "Возвращает список.\n",
        "\n",
        "**Метод sort_distances**\n",
        "\n",
        "`KNNVotingClassifier._get_nearest_sample(self, sorted_distances: list) -> int`\n",
        "\n",
        "Приватный метод, выполняет поиск верного ответа на основе `decision_rule` -- правила для выявления ответа на верный вопрос.\n",
        "\n",
        "**Метод decision_rule**\n",
        "\n",
        "`KNNVotingClassifier._decision_rule(labels_top_k: List) -> int`\n",
        "\n",
        "Правило, по которому модель решает, какую метку класса дать семплу, на основе `labels_top_k` -- топ k ближайших меток соседей (в терминах `self._metric`)"
      ]
    },
    {
      "cell_type": "markdown",
      "id": "c2c043ad",
      "metadata": {
        "id": "c2c043ad"
      },
      "source": [
        "Таким образом, мы сделали удобный дизайн функционала для дальнейшего совершенствования. А пока проверим его работоспособность в таком виде.  "
      ]
    },
    {
      "cell_type": "markdown",
      "id": "1df5687c-24d2-4a17-8323-8bbd202d77d5",
      "metadata": {
        "tags": [],
        "id": "1df5687c-24d2-4a17-8323-8bbd202d77d5"
      },
      "source": [
        "### EDA -- Ирисы Фишера и первичная обработка данных.\n"
      ]
    },
    {
      "cell_type": "markdown",
      "id": "c6701d56",
      "metadata": {
        "id": "c6701d56"
      },
      "source": [
        "Загрузим датасет [\"Ирисов Фишера\"](https://archive.ics.uci.edu/ml/datasets/iris). Он находится в стандартном пакете `sklearn` в рамках модуля `datasets`. Его загрузка происходит автоматически при вызове соответствующей функции."
      ]
    },
    {
      "cell_type": "code",
      "execution_count": 3,
      "id": "244236f4",
      "metadata": {
        "id": "244236f4"
      },
      "outputs": [],
      "source": [
        "iris_dataset = datasets.load_iris()"
      ]
    },
    {
      "cell_type": "markdown",
      "id": "a79809b9",
      "metadata": {
        "id": "a79809b9"
      },
      "source": [
        "C помощью константного поля `DESCR` мы можем посмотреть полное описание датасета. Как мы видим, датасет содержит информацию про длину и ширину лепестка и бутона (тычинки) ирисов. На основе этих харакатеристик, мы должны предсказать класс, то есть подвид ирисов, к которому относится растение с соответствующими характеристиками."
      ]
    },
    {
      "cell_type": "code",
      "execution_count": 4,
      "id": "903d8bd4",
      "metadata": {
        "colab": {
          "base_uri": "https://localhost:8080/"
        },
        "id": "903d8bd4",
        "outputId": "272859ef-dae6-43f7-947f-67455407d4b4"
      },
      "outputs": [
        {
          "output_type": "stream",
          "name": "stdout",
          "text": [
            ".. _iris_dataset:\n",
            "\n",
            "Iris plants dataset\n",
            "--------------------\n",
            "\n",
            "**Data Set Characteristics:**\n",
            "\n",
            "    :Number of Instances: 150 (50 in each of three classes)\n",
            "    :Number of Attributes: 4 numeric, predictive attributes and the class\n",
            "    :Attribute Information:\n",
            "        - sepal length in cm\n",
            "        - sepal width in cm\n",
            "        - petal length in cm\n",
            "        - petal width in cm\n",
            "        - class:\n",
            "                - Iris-Setosa\n",
            "                - Iris-Versicolour\n",
            "                - Iris-Virginica\n",
            "                \n",
            "    :Summary Statistics:\n",
            "\n",
            "    ============== ==== ==== ======= ===== ====================\n",
            "                    Min  Max   Mean    SD   Class Correlation\n",
            "    ============== ==== ==== ======= ===== ====================\n",
            "    sepal length:   4.3  7.9   5.84   0.83    0.7826\n",
            "    sepal width:    2.0  4.4   3.05   0.43   -0.4194\n",
            "    petal length:   1.0  6.9   3.76   1.76    0.9490  (high!)\n",
            "    petal width:    0.1  2.5   1.20   0.76    0.9565  (high!)\n",
            "    ============== ==== ==== ======= ===== ====================\n",
            "\n",
            "    :Missing Attribute Values: None\n",
            "    :Class Distribution: 33.3% for each of 3 classes.\n",
            "    :Creator: R.A. Fisher\n",
            "    :Donor: Michael Marshall (MARSHALL%PLU@io.arc.nasa.gov)\n",
            "    :Date: July, 1988\n",
            "\n",
            "The famous Iris database, first used by Sir R.A. Fisher. The dataset is taken\n",
            "from Fisher's paper. Note that it's the same as in R, but not as in the UCI\n",
            "Machine Learning Repository, which has two wrong data points.\n",
            "\n",
            "This is perhaps the best known database to be found in the\n",
            "pattern recognition literature.  Fisher's paper is a classic in the field and\n",
            "is referenced frequently to this day.  (See Duda & Hart, for example.)  The\n",
            "data set contains 3 classes of 50 instances each, where each class refers to a\n",
            "type of iris plant.  One class is linearly separable from the other 2; the\n",
            "latter are NOT linearly separable from each other.\n",
            "\n",
            ".. topic:: References\n",
            "\n",
            "   - Fisher, R.A. \"The use of multiple measurements in taxonomic problems\"\n",
            "     Annual Eugenics, 7, Part II, 179-188 (1936); also in \"Contributions to\n",
            "     Mathematical Statistics\" (John Wiley, NY, 1950).\n",
            "   - Duda, R.O., & Hart, P.E. (1973) Pattern Classification and Scene Analysis.\n",
            "     (Q327.D83) John Wiley & Sons.  ISBN 0-471-22361-1.  See page 218.\n",
            "   - Dasarathy, B.V. (1980) \"Nosing Around the Neighborhood: A New System\n",
            "     Structure and Classification Rule for Recognition in Partially Exposed\n",
            "     Environments\".  IEEE Transactions on Pattern Analysis and Machine\n",
            "     Intelligence, Vol. PAMI-2, No. 1, 67-71.\n",
            "   - Gates, G.W. (1972) \"The Reduced Nearest Neighbor Rule\".  IEEE Transactions\n",
            "     on Information Theory, May 1972, 431-433.\n",
            "   - See also: 1988 MLC Proceedings, 54-64.  Cheeseman et al\"s AUTOCLASS II\n",
            "     conceptual clustering system finds 3 classes in the data.\n",
            "   - Many, many more ...\n"
          ]
        }
      ],
      "source": [
        "print(iris_dataset.DESCR)"
      ]
    },
    {
      "cell_type": "markdown",
      "id": "c6ab8e81",
      "metadata": {
        "id": "c6ab8e81"
      },
      "source": [
        "Посмотрим на датасет, в котором видны все необходимые данные и соответствующие целевые значения. Их мы получаем из результата загрузки с помощью функции `load_iris()`"
      ]
    },
    {
      "cell_type": "code",
      "execution_count": 5,
      "id": "55612bc9",
      "metadata": {
        "colab": {
          "base_uri": "https://localhost:8080/",
          "height": 206
        },
        "id": "55612bc9",
        "outputId": "4717832f-a778-4adf-9dca-397990c90b01"
      },
      "outputs": [
        {
          "output_type": "execute_result",
          "data": {
            "text/plain": [
              "  sepal length (cm) sepal width (cm) petal length (cm) petal width (cm)  \\\n",
              "0               5.1              3.5               1.4              0.2   \n",
              "1               4.9              3.0               1.4              0.2   \n",
              "2               4.7              3.2               1.3              0.2   \n",
              "3               4.6              3.1               1.5              0.2   \n",
              "4               5.0              3.6               1.4              0.2   \n",
              "\n",
              "  target label target name  \n",
              "0            0      setosa  \n",
              "1            0      setosa  \n",
              "2            0      setosa  \n",
              "3            0      setosa  \n",
              "4            0      setosa  "
            ],
            "text/html": [
              "\n",
              "  <div id=\"df-b083b391-14df-49fb-88b8-57849b3a42f1\" class=\"colab-df-container\">\n",
              "    <div>\n",
              "<style scoped>\n",
              "    .dataframe tbody tr th:only-of-type {\n",
              "        vertical-align: middle;\n",
              "    }\n",
              "\n",
              "    .dataframe tbody tr th {\n",
              "        vertical-align: top;\n",
              "    }\n",
              "\n",
              "    .dataframe thead th {\n",
              "        text-align: right;\n",
              "    }\n",
              "</style>\n",
              "<table border=\"1\" class=\"dataframe\">\n",
              "  <thead>\n",
              "    <tr style=\"text-align: right;\">\n",
              "      <th></th>\n",
              "      <th>sepal length (cm)</th>\n",
              "      <th>sepal width (cm)</th>\n",
              "      <th>petal length (cm)</th>\n",
              "      <th>petal width (cm)</th>\n",
              "      <th>target label</th>\n",
              "      <th>target name</th>\n",
              "    </tr>\n",
              "  </thead>\n",
              "  <tbody>\n",
              "    <tr>\n",
              "      <th>0</th>\n",
              "      <td>5.1</td>\n",
              "      <td>3.5</td>\n",
              "      <td>1.4</td>\n",
              "      <td>0.2</td>\n",
              "      <td>0</td>\n",
              "      <td>setosa</td>\n",
              "    </tr>\n",
              "    <tr>\n",
              "      <th>1</th>\n",
              "      <td>4.9</td>\n",
              "      <td>3.0</td>\n",
              "      <td>1.4</td>\n",
              "      <td>0.2</td>\n",
              "      <td>0</td>\n",
              "      <td>setosa</td>\n",
              "    </tr>\n",
              "    <tr>\n",
              "      <th>2</th>\n",
              "      <td>4.7</td>\n",
              "      <td>3.2</td>\n",
              "      <td>1.3</td>\n",
              "      <td>0.2</td>\n",
              "      <td>0</td>\n",
              "      <td>setosa</td>\n",
              "    </tr>\n",
              "    <tr>\n",
              "      <th>3</th>\n",
              "      <td>4.6</td>\n",
              "      <td>3.1</td>\n",
              "      <td>1.5</td>\n",
              "      <td>0.2</td>\n",
              "      <td>0</td>\n",
              "      <td>setosa</td>\n",
              "    </tr>\n",
              "    <tr>\n",
              "      <th>4</th>\n",
              "      <td>5.0</td>\n",
              "      <td>3.6</td>\n",
              "      <td>1.4</td>\n",
              "      <td>0.2</td>\n",
              "      <td>0</td>\n",
              "      <td>setosa</td>\n",
              "    </tr>\n",
              "  </tbody>\n",
              "</table>\n",
              "</div>\n",
              "    <div class=\"colab-df-buttons\">\n",
              "\n",
              "  <div class=\"colab-df-container\">\n",
              "    <button class=\"colab-df-convert\" onclick=\"convertToInteractive('df-b083b391-14df-49fb-88b8-57849b3a42f1')\"\n",
              "            title=\"Convert this dataframe to an interactive table.\"\n",
              "            style=\"display:none;\">\n",
              "\n",
              "  <svg xmlns=\"http://www.w3.org/2000/svg\" height=\"24px\" viewBox=\"0 -960 960 960\">\n",
              "    <path d=\"M120-120v-720h720v720H120Zm60-500h600v-160H180v160Zm220 220h160v-160H400v160Zm0 220h160v-160H400v160ZM180-400h160v-160H180v160Zm440 0h160v-160H620v160ZM180-180h160v-160H180v160Zm440 0h160v-160H620v160Z\"/>\n",
              "  </svg>\n",
              "    </button>\n",
              "\n",
              "  <style>\n",
              "    .colab-df-container {\n",
              "      display:flex;\n",
              "      gap: 12px;\n",
              "    }\n",
              "\n",
              "    .colab-df-convert {\n",
              "      background-color: #E8F0FE;\n",
              "      border: none;\n",
              "      border-radius: 50%;\n",
              "      cursor: pointer;\n",
              "      display: none;\n",
              "      fill: #1967D2;\n",
              "      height: 32px;\n",
              "      padding: 0 0 0 0;\n",
              "      width: 32px;\n",
              "    }\n",
              "\n",
              "    .colab-df-convert:hover {\n",
              "      background-color: #E2EBFA;\n",
              "      box-shadow: 0px 1px 2px rgba(60, 64, 67, 0.3), 0px 1px 3px 1px rgba(60, 64, 67, 0.15);\n",
              "      fill: #174EA6;\n",
              "    }\n",
              "\n",
              "    .colab-df-buttons div {\n",
              "      margin-bottom: 4px;\n",
              "    }\n",
              "\n",
              "    [theme=dark] .colab-df-convert {\n",
              "      background-color: #3B4455;\n",
              "      fill: #D2E3FC;\n",
              "    }\n",
              "\n",
              "    [theme=dark] .colab-df-convert:hover {\n",
              "      background-color: #434B5C;\n",
              "      box-shadow: 0px 1px 3px 1px rgba(0, 0, 0, 0.15);\n",
              "      filter: drop-shadow(0px 1px 2px rgba(0, 0, 0, 0.3));\n",
              "      fill: #FFFFFF;\n",
              "    }\n",
              "  </style>\n",
              "\n",
              "    <script>\n",
              "      const buttonEl =\n",
              "        document.querySelector('#df-b083b391-14df-49fb-88b8-57849b3a42f1 button.colab-df-convert');\n",
              "      buttonEl.style.display =\n",
              "        google.colab.kernel.accessAllowed ? 'block' : 'none';\n",
              "\n",
              "      async function convertToInteractive(key) {\n",
              "        const element = document.querySelector('#df-b083b391-14df-49fb-88b8-57849b3a42f1');\n",
              "        const dataTable =\n",
              "          await google.colab.kernel.invokeFunction('convertToInteractive',\n",
              "                                                    [key], {});\n",
              "        if (!dataTable) return;\n",
              "\n",
              "        const docLinkHtml = 'Like what you see? Visit the ' +\n",
              "          '<a target=\"_blank\" href=https://colab.research.google.com/notebooks/data_table.ipynb>data table notebook</a>'\n",
              "          + ' to learn more about interactive tables.';\n",
              "        element.innerHTML = '';\n",
              "        dataTable['output_type'] = 'display_data';\n",
              "        await google.colab.output.renderOutput(dataTable, element);\n",
              "        const docLink = document.createElement('div');\n",
              "        docLink.innerHTML = docLinkHtml;\n",
              "        element.appendChild(docLink);\n",
              "      }\n",
              "    </script>\n",
              "  </div>\n",
              "\n",
              "\n",
              "<div id=\"df-7e0648ae-b5b6-47af-9b8f-2bfdcd4a1362\">\n",
              "  <button class=\"colab-df-quickchart\" onclick=\"quickchart('df-7e0648ae-b5b6-47af-9b8f-2bfdcd4a1362')\"\n",
              "            title=\"Suggest charts.\"\n",
              "            style=\"display:none;\">\n",
              "\n",
              "<svg xmlns=\"http://www.w3.org/2000/svg\" height=\"24px\"viewBox=\"0 0 24 24\"\n",
              "     width=\"24px\">\n",
              "    <g>\n",
              "        <path d=\"M19 3H5c-1.1 0-2 .9-2 2v14c0 1.1.9 2 2 2h14c1.1 0 2-.9 2-2V5c0-1.1-.9-2-2-2zM9 17H7v-7h2v7zm4 0h-2V7h2v10zm4 0h-2v-4h2v4z\"/>\n",
              "    </g>\n",
              "</svg>\n",
              "  </button>\n",
              "\n",
              "<style>\n",
              "  .colab-df-quickchart {\n",
              "      --bg-color: #E8F0FE;\n",
              "      --fill-color: #1967D2;\n",
              "      --hover-bg-color: #E2EBFA;\n",
              "      --hover-fill-color: #174EA6;\n",
              "      --disabled-fill-color: #AAA;\n",
              "      --disabled-bg-color: #DDD;\n",
              "  }\n",
              "\n",
              "  [theme=dark] .colab-df-quickchart {\n",
              "      --bg-color: #3B4455;\n",
              "      --fill-color: #D2E3FC;\n",
              "      --hover-bg-color: #434B5C;\n",
              "      --hover-fill-color: #FFFFFF;\n",
              "      --disabled-bg-color: #3B4455;\n",
              "      --disabled-fill-color: #666;\n",
              "  }\n",
              "\n",
              "  .colab-df-quickchart {\n",
              "    background-color: var(--bg-color);\n",
              "    border: none;\n",
              "    border-radius: 50%;\n",
              "    cursor: pointer;\n",
              "    display: none;\n",
              "    fill: var(--fill-color);\n",
              "    height: 32px;\n",
              "    padding: 0;\n",
              "    width: 32px;\n",
              "  }\n",
              "\n",
              "  .colab-df-quickchart:hover {\n",
              "    background-color: var(--hover-bg-color);\n",
              "    box-shadow: 0 1px 2px rgba(60, 64, 67, 0.3), 0 1px 3px 1px rgba(60, 64, 67, 0.15);\n",
              "    fill: var(--button-hover-fill-color);\n",
              "  }\n",
              "\n",
              "  .colab-df-quickchart-complete:disabled,\n",
              "  .colab-df-quickchart-complete:disabled:hover {\n",
              "    background-color: var(--disabled-bg-color);\n",
              "    fill: var(--disabled-fill-color);\n",
              "    box-shadow: none;\n",
              "  }\n",
              "\n",
              "  .colab-df-spinner {\n",
              "    border: 2px solid var(--fill-color);\n",
              "    border-color: transparent;\n",
              "    border-bottom-color: var(--fill-color);\n",
              "    animation:\n",
              "      spin 1s steps(1) infinite;\n",
              "  }\n",
              "\n",
              "  @keyframes spin {\n",
              "    0% {\n",
              "      border-color: transparent;\n",
              "      border-bottom-color: var(--fill-color);\n",
              "      border-left-color: var(--fill-color);\n",
              "    }\n",
              "    20% {\n",
              "      border-color: transparent;\n",
              "      border-left-color: var(--fill-color);\n",
              "      border-top-color: var(--fill-color);\n",
              "    }\n",
              "    30% {\n",
              "      border-color: transparent;\n",
              "      border-left-color: var(--fill-color);\n",
              "      border-top-color: var(--fill-color);\n",
              "      border-right-color: var(--fill-color);\n",
              "    }\n",
              "    40% {\n",
              "      border-color: transparent;\n",
              "      border-right-color: var(--fill-color);\n",
              "      border-top-color: var(--fill-color);\n",
              "    }\n",
              "    60% {\n",
              "      border-color: transparent;\n",
              "      border-right-color: var(--fill-color);\n",
              "    }\n",
              "    80% {\n",
              "      border-color: transparent;\n",
              "      border-right-color: var(--fill-color);\n",
              "      border-bottom-color: var(--fill-color);\n",
              "    }\n",
              "    90% {\n",
              "      border-color: transparent;\n",
              "      border-bottom-color: var(--fill-color);\n",
              "    }\n",
              "  }\n",
              "</style>\n",
              "\n",
              "  <script>\n",
              "    async function quickchart(key) {\n",
              "      const quickchartButtonEl =\n",
              "        document.querySelector('#' + key + ' button');\n",
              "      quickchartButtonEl.disabled = true;  // To prevent multiple clicks.\n",
              "      quickchartButtonEl.classList.add('colab-df-spinner');\n",
              "      try {\n",
              "        const charts = await google.colab.kernel.invokeFunction(\n",
              "            'suggestCharts', [key], {});\n",
              "      } catch (error) {\n",
              "        console.error('Error during call to suggestCharts:', error);\n",
              "      }\n",
              "      quickchartButtonEl.classList.remove('colab-df-spinner');\n",
              "      quickchartButtonEl.classList.add('colab-df-quickchart-complete');\n",
              "    }\n",
              "    (() => {\n",
              "      let quickchartButtonEl =\n",
              "        document.querySelector('#df-7e0648ae-b5b6-47af-9b8f-2bfdcd4a1362 button');\n",
              "      quickchartButtonEl.style.display =\n",
              "        google.colab.kernel.accessAllowed ? 'block' : 'none';\n",
              "    })();\n",
              "  </script>\n",
              "</div>\n",
              "    </div>\n",
              "  </div>\n"
            ]
          },
          "metadata": {},
          "execution_count": 5
        }
      ],
      "source": [
        "# for now you don't need to understand what happens in this code - just look at the table\n",
        "ext_target = iris_dataset.target[:, None]\n",
        "\n",
        "# ext_target = np.expand_dims(dataset.target, axis=-1)\n",
        "df = pd.DataFrame(\n",
        "    np.concatenate((iris_dataset.data, ext_target, iris_dataset.target_names[ext_target]), axis=1),\n",
        "    columns=iris_dataset.feature_names + ['target label', 'target name'],\n",
        ")\n",
        "df.head()"
      ]
    },
    {
      "cell_type": "markdown",
      "id": "83186803",
      "metadata": {
        "id": "83186803"
      },
      "source": [
        "На данном этапе нет необходимости, чтобы вы понимали код, который связан с пакетом `pandas`, но, однако, полезно посмотреть на экстремальные, уникальные значения, а также частотные характеристики датасета выше."
      ]
    },
    {
      "cell_type": "code",
      "execution_count": 6,
      "id": "d859d173",
      "metadata": {
        "colab": {
          "base_uri": "https://localhost:8080/",
          "height": 175
        },
        "id": "d859d173",
        "outputId": "a14a5687-10a7-4154-f623-1aa893f35fea"
      },
      "outputs": [
        {
          "output_type": "execute_result",
          "data": {
            "text/plain": [
              "       sepal length (cm) sepal width (cm) petal length (cm) petal width (cm)  \\\n",
              "count                150              150               150              150   \n",
              "unique                35               23                43               22   \n",
              "top                  5.0              3.0               1.4              0.2   \n",
              "freq                  10               26                13               29   \n",
              "\n",
              "       target label target name  \n",
              "count           150         150  \n",
              "unique            3           3  \n",
              "top               0      setosa  \n",
              "freq             50          50  "
            ],
            "text/html": [
              "\n",
              "  <div id=\"df-026f57ae-73b5-46ac-80ee-226054caf01d\" class=\"colab-df-container\">\n",
              "    <div>\n",
              "<style scoped>\n",
              "    .dataframe tbody tr th:only-of-type {\n",
              "        vertical-align: middle;\n",
              "    }\n",
              "\n",
              "    .dataframe tbody tr th {\n",
              "        vertical-align: top;\n",
              "    }\n",
              "\n",
              "    .dataframe thead th {\n",
              "        text-align: right;\n",
              "    }\n",
              "</style>\n",
              "<table border=\"1\" class=\"dataframe\">\n",
              "  <thead>\n",
              "    <tr style=\"text-align: right;\">\n",
              "      <th></th>\n",
              "      <th>sepal length (cm)</th>\n",
              "      <th>sepal width (cm)</th>\n",
              "      <th>petal length (cm)</th>\n",
              "      <th>petal width (cm)</th>\n",
              "      <th>target label</th>\n",
              "      <th>target name</th>\n",
              "    </tr>\n",
              "  </thead>\n",
              "  <tbody>\n",
              "    <tr>\n",
              "      <th>count</th>\n",
              "      <td>150</td>\n",
              "      <td>150</td>\n",
              "      <td>150</td>\n",
              "      <td>150</td>\n",
              "      <td>150</td>\n",
              "      <td>150</td>\n",
              "    </tr>\n",
              "    <tr>\n",
              "      <th>unique</th>\n",
              "      <td>35</td>\n",
              "      <td>23</td>\n",
              "      <td>43</td>\n",
              "      <td>22</td>\n",
              "      <td>3</td>\n",
              "      <td>3</td>\n",
              "    </tr>\n",
              "    <tr>\n",
              "      <th>top</th>\n",
              "      <td>5.0</td>\n",
              "      <td>3.0</td>\n",
              "      <td>1.4</td>\n",
              "      <td>0.2</td>\n",
              "      <td>0</td>\n",
              "      <td>setosa</td>\n",
              "    </tr>\n",
              "    <tr>\n",
              "      <th>freq</th>\n",
              "      <td>10</td>\n",
              "      <td>26</td>\n",
              "      <td>13</td>\n",
              "      <td>29</td>\n",
              "      <td>50</td>\n",
              "      <td>50</td>\n",
              "    </tr>\n",
              "  </tbody>\n",
              "</table>\n",
              "</div>\n",
              "    <div class=\"colab-df-buttons\">\n",
              "\n",
              "  <div class=\"colab-df-container\">\n",
              "    <button class=\"colab-df-convert\" onclick=\"convertToInteractive('df-026f57ae-73b5-46ac-80ee-226054caf01d')\"\n",
              "            title=\"Convert this dataframe to an interactive table.\"\n",
              "            style=\"display:none;\">\n",
              "\n",
              "  <svg xmlns=\"http://www.w3.org/2000/svg\" height=\"24px\" viewBox=\"0 -960 960 960\">\n",
              "    <path d=\"M120-120v-720h720v720H120Zm60-500h600v-160H180v160Zm220 220h160v-160H400v160Zm0 220h160v-160H400v160ZM180-400h160v-160H180v160Zm440 0h160v-160H620v160ZM180-180h160v-160H180v160Zm440 0h160v-160H620v160Z\"/>\n",
              "  </svg>\n",
              "    </button>\n",
              "\n",
              "  <style>\n",
              "    .colab-df-container {\n",
              "      display:flex;\n",
              "      gap: 12px;\n",
              "    }\n",
              "\n",
              "    .colab-df-convert {\n",
              "      background-color: #E8F0FE;\n",
              "      border: none;\n",
              "      border-radius: 50%;\n",
              "      cursor: pointer;\n",
              "      display: none;\n",
              "      fill: #1967D2;\n",
              "      height: 32px;\n",
              "      padding: 0 0 0 0;\n",
              "      width: 32px;\n",
              "    }\n",
              "\n",
              "    .colab-df-convert:hover {\n",
              "      background-color: #E2EBFA;\n",
              "      box-shadow: 0px 1px 2px rgba(60, 64, 67, 0.3), 0px 1px 3px 1px rgba(60, 64, 67, 0.15);\n",
              "      fill: #174EA6;\n",
              "    }\n",
              "\n",
              "    .colab-df-buttons div {\n",
              "      margin-bottom: 4px;\n",
              "    }\n",
              "\n",
              "    [theme=dark] .colab-df-convert {\n",
              "      background-color: #3B4455;\n",
              "      fill: #D2E3FC;\n",
              "    }\n",
              "\n",
              "    [theme=dark] .colab-df-convert:hover {\n",
              "      background-color: #434B5C;\n",
              "      box-shadow: 0px 1px 3px 1px rgba(0, 0, 0, 0.15);\n",
              "      filter: drop-shadow(0px 1px 2px rgba(0, 0, 0, 0.3));\n",
              "      fill: #FFFFFF;\n",
              "    }\n",
              "  </style>\n",
              "\n",
              "    <script>\n",
              "      const buttonEl =\n",
              "        document.querySelector('#df-026f57ae-73b5-46ac-80ee-226054caf01d button.colab-df-convert');\n",
              "      buttonEl.style.display =\n",
              "        google.colab.kernel.accessAllowed ? 'block' : 'none';\n",
              "\n",
              "      async function convertToInteractive(key) {\n",
              "        const element = document.querySelector('#df-026f57ae-73b5-46ac-80ee-226054caf01d');\n",
              "        const dataTable =\n",
              "          await google.colab.kernel.invokeFunction('convertToInteractive',\n",
              "                                                    [key], {});\n",
              "        if (!dataTable) return;\n",
              "\n",
              "        const docLinkHtml = 'Like what you see? Visit the ' +\n",
              "          '<a target=\"_blank\" href=https://colab.research.google.com/notebooks/data_table.ipynb>data table notebook</a>'\n",
              "          + ' to learn more about interactive tables.';\n",
              "        element.innerHTML = '';\n",
              "        dataTable['output_type'] = 'display_data';\n",
              "        await google.colab.output.renderOutput(dataTable, element);\n",
              "        const docLink = document.createElement('div');\n",
              "        docLink.innerHTML = docLinkHtml;\n",
              "        element.appendChild(docLink);\n",
              "      }\n",
              "    </script>\n",
              "  </div>\n",
              "\n",
              "\n",
              "<div id=\"df-be175709-f26c-42a1-b4f0-86d4c061333d\">\n",
              "  <button class=\"colab-df-quickchart\" onclick=\"quickchart('df-be175709-f26c-42a1-b4f0-86d4c061333d')\"\n",
              "            title=\"Suggest charts.\"\n",
              "            style=\"display:none;\">\n",
              "\n",
              "<svg xmlns=\"http://www.w3.org/2000/svg\" height=\"24px\"viewBox=\"0 0 24 24\"\n",
              "     width=\"24px\">\n",
              "    <g>\n",
              "        <path d=\"M19 3H5c-1.1 0-2 .9-2 2v14c0 1.1.9 2 2 2h14c1.1 0 2-.9 2-2V5c0-1.1-.9-2-2-2zM9 17H7v-7h2v7zm4 0h-2V7h2v10zm4 0h-2v-4h2v4z\"/>\n",
              "    </g>\n",
              "</svg>\n",
              "  </button>\n",
              "\n",
              "<style>\n",
              "  .colab-df-quickchart {\n",
              "      --bg-color: #E8F0FE;\n",
              "      --fill-color: #1967D2;\n",
              "      --hover-bg-color: #E2EBFA;\n",
              "      --hover-fill-color: #174EA6;\n",
              "      --disabled-fill-color: #AAA;\n",
              "      --disabled-bg-color: #DDD;\n",
              "  }\n",
              "\n",
              "  [theme=dark] .colab-df-quickchart {\n",
              "      --bg-color: #3B4455;\n",
              "      --fill-color: #D2E3FC;\n",
              "      --hover-bg-color: #434B5C;\n",
              "      --hover-fill-color: #FFFFFF;\n",
              "      --disabled-bg-color: #3B4455;\n",
              "      --disabled-fill-color: #666;\n",
              "  }\n",
              "\n",
              "  .colab-df-quickchart {\n",
              "    background-color: var(--bg-color);\n",
              "    border: none;\n",
              "    border-radius: 50%;\n",
              "    cursor: pointer;\n",
              "    display: none;\n",
              "    fill: var(--fill-color);\n",
              "    height: 32px;\n",
              "    padding: 0;\n",
              "    width: 32px;\n",
              "  }\n",
              "\n",
              "  .colab-df-quickchart:hover {\n",
              "    background-color: var(--hover-bg-color);\n",
              "    box-shadow: 0 1px 2px rgba(60, 64, 67, 0.3), 0 1px 3px 1px rgba(60, 64, 67, 0.15);\n",
              "    fill: var(--button-hover-fill-color);\n",
              "  }\n",
              "\n",
              "  .colab-df-quickchart-complete:disabled,\n",
              "  .colab-df-quickchart-complete:disabled:hover {\n",
              "    background-color: var(--disabled-bg-color);\n",
              "    fill: var(--disabled-fill-color);\n",
              "    box-shadow: none;\n",
              "  }\n",
              "\n",
              "  .colab-df-spinner {\n",
              "    border: 2px solid var(--fill-color);\n",
              "    border-color: transparent;\n",
              "    border-bottom-color: var(--fill-color);\n",
              "    animation:\n",
              "      spin 1s steps(1) infinite;\n",
              "  }\n",
              "\n",
              "  @keyframes spin {\n",
              "    0% {\n",
              "      border-color: transparent;\n",
              "      border-bottom-color: var(--fill-color);\n",
              "      border-left-color: var(--fill-color);\n",
              "    }\n",
              "    20% {\n",
              "      border-color: transparent;\n",
              "      border-left-color: var(--fill-color);\n",
              "      border-top-color: var(--fill-color);\n",
              "    }\n",
              "    30% {\n",
              "      border-color: transparent;\n",
              "      border-left-color: var(--fill-color);\n",
              "      border-top-color: var(--fill-color);\n",
              "      border-right-color: var(--fill-color);\n",
              "    }\n",
              "    40% {\n",
              "      border-color: transparent;\n",
              "      border-right-color: var(--fill-color);\n",
              "      border-top-color: var(--fill-color);\n",
              "    }\n",
              "    60% {\n",
              "      border-color: transparent;\n",
              "      border-right-color: var(--fill-color);\n",
              "    }\n",
              "    80% {\n",
              "      border-color: transparent;\n",
              "      border-right-color: var(--fill-color);\n",
              "      border-bottom-color: var(--fill-color);\n",
              "    }\n",
              "    90% {\n",
              "      border-color: transparent;\n",
              "      border-bottom-color: var(--fill-color);\n",
              "    }\n",
              "  }\n",
              "</style>\n",
              "\n",
              "  <script>\n",
              "    async function quickchart(key) {\n",
              "      const quickchartButtonEl =\n",
              "        document.querySelector('#' + key + ' button');\n",
              "      quickchartButtonEl.disabled = true;  // To prevent multiple clicks.\n",
              "      quickchartButtonEl.classList.add('colab-df-spinner');\n",
              "      try {\n",
              "        const charts = await google.colab.kernel.invokeFunction(\n",
              "            'suggestCharts', [key], {});\n",
              "      } catch (error) {\n",
              "        console.error('Error during call to suggestCharts:', error);\n",
              "      }\n",
              "      quickchartButtonEl.classList.remove('colab-df-spinner');\n",
              "      quickchartButtonEl.classList.add('colab-df-quickchart-complete');\n",
              "    }\n",
              "    (() => {\n",
              "      let quickchartButtonEl =\n",
              "        document.querySelector('#df-be175709-f26c-42a1-b4f0-86d4c061333d button');\n",
              "      quickchartButtonEl.style.display =\n",
              "        google.colab.kernel.accessAllowed ? 'block' : 'none';\n",
              "    })();\n",
              "  </script>\n",
              "</div>\n",
              "    </div>\n",
              "  </div>\n"
            ]
          },
          "metadata": {},
          "execution_count": 6
        }
      ],
      "source": [
        "df.describe()"
      ]
    },
    {
      "cell_type": "markdown",
      "id": "4d67248b",
      "metadata": {
        "id": "4d67248b"
      },
      "source": [
        "Еще один вспомогательный элемент для кода, который не требует глубокого понимания -- визуализация датасета.\n",
        "\n",
        "В данном случае, мы, с помощью библиотеки `plotly` отрисовали все точки, содержащиеся в датасете.\n",
        "\n",
        "**Важное замечание**: мы отрисовали только три измерения (из четырех) -- `sepal length (cm)`, `sepal width (cm)`, `petal width (cm)`. Но даже в этих ограничениях можно увидеть, что есть некоторая \"кластеризация\" каждого из точек ровно в три класса, которые присутствуют в датасете. Для того, чтобы увидеть полную картину, нам необходимо воспользоваться методами для понижения размерности -- только тогда мы сможем включить в нашу визуализацию еще один параметр -- `petal length (cm)`"
      ]
    },
    {
      "cell_type": "code",
      "execution_count": 7,
      "id": "3cf90320",
      "metadata": {
        "colab": {
          "base_uri": "https://localhost:8080/",
          "height": 559
        },
        "id": "3cf90320",
        "outputId": "645ad852-528b-4bdb-f88d-84b73b27adbc"
      },
      "outputs": [
        {
          "output_type": "display_data",
          "data": {
            "text/html": [
              "<html>\n",
              "<head><meta charset=\"utf-8\" /></head>\n",
              "<body>\n",
              "    <div>            <script src=\"https://cdnjs.cloudflare.com/ajax/libs/mathjax/2.7.5/MathJax.js?config=TeX-AMS-MML_SVG\"></script><script type=\"text/javascript\">if (window.MathJax && window.MathJax.Hub && window.MathJax.Hub.Config) {window.MathJax.Hub.Config({SVG: {font: \"STIX-Web\"}});}</script>                <script type=\"text/javascript\">window.PlotlyConfig = {MathJaxConfig: 'local'};</script>\n",
              "        <script charset=\"utf-8\" src=\"https://cdn.plot.ly/plotly-2.24.1.min.js\"></script>                <div id=\"1fa84f18-ee29-467d-bee5-71c3f753463d\" class=\"plotly-graph-div\" style=\"height:525px; width:100%;\"></div>            <script type=\"text/javascript\">                                    window.PLOTLYENV=window.PLOTLYENV || {};                                    if (document.getElementById(\"1fa84f18-ee29-467d-bee5-71c3f753463d\")) {                    Plotly.newPlot(                        \"1fa84f18-ee29-467d-bee5-71c3f753463d\",                        [{\"hovertemplate\":\"target name=setosa\\u003cbr\\u003esepal length (cm)=%{x}\\u003cbr\\u003esepal width (cm)=%{y}\\u003cbr\\u003epetal width (cm)=%{z}\\u003cextra\\u003e\\u003c\\u002fextra\\u003e\",\"legendgroup\":\"setosa\",\"marker\":{\"color\":\"#636efa\",\"symbol\":\"circle\"},\"mode\":\"markers\",\"name\":\"setosa\",\"scene\":\"scene\",\"showlegend\":true,\"x\":[\"5.1\",\"4.9\",\"4.7\",\"4.6\",\"5.0\",\"5.4\",\"4.6\",\"5.0\",\"4.4\",\"4.9\",\"5.4\",\"4.8\",\"4.8\",\"4.3\",\"5.8\",\"5.7\",\"5.4\",\"5.1\",\"5.7\",\"5.1\",\"5.4\",\"5.1\",\"4.6\",\"5.1\",\"4.8\",\"5.0\",\"5.0\",\"5.2\",\"5.2\",\"4.7\",\"4.8\",\"5.4\",\"5.2\",\"5.5\",\"4.9\",\"5.0\",\"5.5\",\"4.9\",\"4.4\",\"5.1\",\"5.0\",\"4.5\",\"4.4\",\"5.0\",\"5.1\",\"4.8\",\"5.1\",\"4.6\",\"5.3\",\"5.0\"],\"y\":[\"3.5\",\"3.0\",\"3.2\",\"3.1\",\"3.6\",\"3.9\",\"3.4\",\"3.4\",\"2.9\",\"3.1\",\"3.7\",\"3.4\",\"3.0\",\"3.0\",\"4.0\",\"4.4\",\"3.9\",\"3.5\",\"3.8\",\"3.8\",\"3.4\",\"3.7\",\"3.6\",\"3.3\",\"3.4\",\"3.0\",\"3.4\",\"3.5\",\"3.4\",\"3.2\",\"3.1\",\"3.4\",\"4.1\",\"4.2\",\"3.1\",\"3.2\",\"3.5\",\"3.6\",\"3.0\",\"3.4\",\"3.5\",\"2.3\",\"3.2\",\"3.5\",\"3.8\",\"3.0\",\"3.8\",\"3.2\",\"3.7\",\"3.3\"],\"z\":[\"0.2\",\"0.2\",\"0.2\",\"0.2\",\"0.2\",\"0.4\",\"0.3\",\"0.2\",\"0.2\",\"0.1\",\"0.2\",\"0.2\",\"0.1\",\"0.1\",\"0.2\",\"0.4\",\"0.4\",\"0.3\",\"0.3\",\"0.3\",\"0.2\",\"0.4\",\"0.2\",\"0.5\",\"0.2\",\"0.2\",\"0.4\",\"0.2\",\"0.2\",\"0.2\",\"0.2\",\"0.4\",\"0.1\",\"0.2\",\"0.2\",\"0.2\",\"0.2\",\"0.1\",\"0.2\",\"0.2\",\"0.3\",\"0.3\",\"0.2\",\"0.6\",\"0.4\",\"0.3\",\"0.2\",\"0.2\",\"0.2\",\"0.2\"],\"type\":\"scatter3d\"},{\"hovertemplate\":\"target name=versicolor\\u003cbr\\u003esepal length (cm)=%{x}\\u003cbr\\u003esepal width (cm)=%{y}\\u003cbr\\u003epetal width (cm)=%{z}\\u003cextra\\u003e\\u003c\\u002fextra\\u003e\",\"legendgroup\":\"versicolor\",\"marker\":{\"color\":\"#EF553B\",\"symbol\":\"circle\"},\"mode\":\"markers\",\"name\":\"versicolor\",\"scene\":\"scene\",\"showlegend\":true,\"x\":[\"7.0\",\"6.4\",\"6.9\",\"5.5\",\"6.5\",\"5.7\",\"6.3\",\"4.9\",\"6.6\",\"5.2\",\"5.0\",\"5.9\",\"6.0\",\"6.1\",\"5.6\",\"6.7\",\"5.6\",\"5.8\",\"6.2\",\"5.6\",\"5.9\",\"6.1\",\"6.3\",\"6.1\",\"6.4\",\"6.6\",\"6.8\",\"6.7\",\"6.0\",\"5.7\",\"5.5\",\"5.5\",\"5.8\",\"6.0\",\"5.4\",\"6.0\",\"6.7\",\"6.3\",\"5.6\",\"5.5\",\"5.5\",\"6.1\",\"5.8\",\"5.0\",\"5.6\",\"5.7\",\"5.7\",\"6.2\",\"5.1\",\"5.7\"],\"y\":[\"3.2\",\"3.2\",\"3.1\",\"2.3\",\"2.8\",\"2.8\",\"3.3\",\"2.4\",\"2.9\",\"2.7\",\"2.0\",\"3.0\",\"2.2\",\"2.9\",\"2.9\",\"3.1\",\"3.0\",\"2.7\",\"2.2\",\"2.5\",\"3.2\",\"2.8\",\"2.5\",\"2.8\",\"2.9\",\"3.0\",\"2.8\",\"3.0\",\"2.9\",\"2.6\",\"2.4\",\"2.4\",\"2.7\",\"2.7\",\"3.0\",\"3.4\",\"3.1\",\"2.3\",\"3.0\",\"2.5\",\"2.6\",\"3.0\",\"2.6\",\"2.3\",\"2.7\",\"3.0\",\"2.9\",\"2.9\",\"2.5\",\"2.8\"],\"z\":[\"1.4\",\"1.5\",\"1.5\",\"1.3\",\"1.5\",\"1.3\",\"1.6\",\"1.0\",\"1.3\",\"1.4\",\"1.0\",\"1.5\",\"1.0\",\"1.4\",\"1.3\",\"1.4\",\"1.5\",\"1.0\",\"1.5\",\"1.1\",\"1.8\",\"1.3\",\"1.5\",\"1.2\",\"1.3\",\"1.4\",\"1.4\",\"1.7\",\"1.5\",\"1.0\",\"1.1\",\"1.0\",\"1.2\",\"1.6\",\"1.5\",\"1.6\",\"1.5\",\"1.3\",\"1.3\",\"1.3\",\"1.2\",\"1.4\",\"1.2\",\"1.0\",\"1.3\",\"1.2\",\"1.3\",\"1.3\",\"1.1\",\"1.3\"],\"type\":\"scatter3d\"},{\"hovertemplate\":\"target name=virginica\\u003cbr\\u003esepal length (cm)=%{x}\\u003cbr\\u003esepal width (cm)=%{y}\\u003cbr\\u003epetal width (cm)=%{z}\\u003cextra\\u003e\\u003c\\u002fextra\\u003e\",\"legendgroup\":\"virginica\",\"marker\":{\"color\":\"#00cc96\",\"symbol\":\"circle\"},\"mode\":\"markers\",\"name\":\"virginica\",\"scene\":\"scene\",\"showlegend\":true,\"x\":[\"6.3\",\"5.8\",\"7.1\",\"6.3\",\"6.5\",\"7.6\",\"4.9\",\"7.3\",\"6.7\",\"7.2\",\"6.5\",\"6.4\",\"6.8\",\"5.7\",\"5.8\",\"6.4\",\"6.5\",\"7.7\",\"7.7\",\"6.0\",\"6.9\",\"5.6\",\"7.7\",\"6.3\",\"6.7\",\"7.2\",\"6.2\",\"6.1\",\"6.4\",\"7.2\",\"7.4\",\"7.9\",\"6.4\",\"6.3\",\"6.1\",\"7.7\",\"6.3\",\"6.4\",\"6.0\",\"6.9\",\"6.7\",\"6.9\",\"5.8\",\"6.8\",\"6.7\",\"6.7\",\"6.3\",\"6.5\",\"6.2\",\"5.9\"],\"y\":[\"3.3\",\"2.7\",\"3.0\",\"2.9\",\"3.0\",\"3.0\",\"2.5\",\"2.9\",\"2.5\",\"3.6\",\"3.2\",\"2.7\",\"3.0\",\"2.5\",\"2.8\",\"3.2\",\"3.0\",\"3.8\",\"2.6\",\"2.2\",\"3.2\",\"2.8\",\"2.8\",\"2.7\",\"3.3\",\"3.2\",\"2.8\",\"3.0\",\"2.8\",\"3.0\",\"2.8\",\"3.8\",\"2.8\",\"2.8\",\"2.6\",\"3.0\",\"3.4\",\"3.1\",\"3.0\",\"3.1\",\"3.1\",\"3.1\",\"2.7\",\"3.2\",\"3.3\",\"3.0\",\"2.5\",\"3.0\",\"3.4\",\"3.0\"],\"z\":[\"2.5\",\"1.9\",\"2.1\",\"1.8\",\"2.2\",\"2.1\",\"1.7\",\"1.8\",\"1.8\",\"2.5\",\"2.0\",\"1.9\",\"2.1\",\"2.0\",\"2.4\",\"2.3\",\"1.8\",\"2.2\",\"2.3\",\"1.5\",\"2.3\",\"2.0\",\"2.0\",\"1.8\",\"2.1\",\"1.8\",\"1.8\",\"1.8\",\"2.1\",\"1.6\",\"1.9\",\"2.0\",\"2.2\",\"1.5\",\"1.4\",\"2.3\",\"2.4\",\"1.8\",\"1.8\",\"2.1\",\"2.4\",\"2.3\",\"1.9\",\"2.3\",\"2.5\",\"2.3\",\"1.9\",\"2.0\",\"2.3\",\"1.8\"],\"type\":\"scatter3d\"}],                        {\"template\":{\"data\":{\"histogram2dcontour\":[{\"type\":\"histogram2dcontour\",\"colorbar\":{\"outlinewidth\":0,\"ticks\":\"\"},\"colorscale\":[[0.0,\"#0d0887\"],[0.1111111111111111,\"#46039f\"],[0.2222222222222222,\"#7201a8\"],[0.3333333333333333,\"#9c179e\"],[0.4444444444444444,\"#bd3786\"],[0.5555555555555556,\"#d8576b\"],[0.6666666666666666,\"#ed7953\"],[0.7777777777777778,\"#fb9f3a\"],[0.8888888888888888,\"#fdca26\"],[1.0,\"#f0f921\"]]}],\"choropleth\":[{\"type\":\"choropleth\",\"colorbar\":{\"outlinewidth\":0,\"ticks\":\"\"}}],\"histogram2d\":[{\"type\":\"histogram2d\",\"colorbar\":{\"outlinewidth\":0,\"ticks\":\"\"},\"colorscale\":[[0.0,\"#0d0887\"],[0.1111111111111111,\"#46039f\"],[0.2222222222222222,\"#7201a8\"],[0.3333333333333333,\"#9c179e\"],[0.4444444444444444,\"#bd3786\"],[0.5555555555555556,\"#d8576b\"],[0.6666666666666666,\"#ed7953\"],[0.7777777777777778,\"#fb9f3a\"],[0.8888888888888888,\"#fdca26\"],[1.0,\"#f0f921\"]]}],\"heatmap\":[{\"type\":\"heatmap\",\"colorbar\":{\"outlinewidth\":0,\"ticks\":\"\"},\"colorscale\":[[0.0,\"#0d0887\"],[0.1111111111111111,\"#46039f\"],[0.2222222222222222,\"#7201a8\"],[0.3333333333333333,\"#9c179e\"],[0.4444444444444444,\"#bd3786\"],[0.5555555555555556,\"#d8576b\"],[0.6666666666666666,\"#ed7953\"],[0.7777777777777778,\"#fb9f3a\"],[0.8888888888888888,\"#fdca26\"],[1.0,\"#f0f921\"]]}],\"heatmapgl\":[{\"type\":\"heatmapgl\",\"colorbar\":{\"outlinewidth\":0,\"ticks\":\"\"},\"colorscale\":[[0.0,\"#0d0887\"],[0.1111111111111111,\"#46039f\"],[0.2222222222222222,\"#7201a8\"],[0.3333333333333333,\"#9c179e\"],[0.4444444444444444,\"#bd3786\"],[0.5555555555555556,\"#d8576b\"],[0.6666666666666666,\"#ed7953\"],[0.7777777777777778,\"#fb9f3a\"],[0.8888888888888888,\"#fdca26\"],[1.0,\"#f0f921\"]]}],\"contourcarpet\":[{\"type\":\"contourcarpet\",\"colorbar\":{\"outlinewidth\":0,\"ticks\":\"\"}}],\"contour\":[{\"type\":\"contour\",\"colorbar\":{\"outlinewidth\":0,\"ticks\":\"\"},\"colorscale\":[[0.0,\"#0d0887\"],[0.1111111111111111,\"#46039f\"],[0.2222222222222222,\"#7201a8\"],[0.3333333333333333,\"#9c179e\"],[0.4444444444444444,\"#bd3786\"],[0.5555555555555556,\"#d8576b\"],[0.6666666666666666,\"#ed7953\"],[0.7777777777777778,\"#fb9f3a\"],[0.8888888888888888,\"#fdca26\"],[1.0,\"#f0f921\"]]}],\"surface\":[{\"type\":\"surface\",\"colorbar\":{\"outlinewidth\":0,\"ticks\":\"\"},\"colorscale\":[[0.0,\"#0d0887\"],[0.1111111111111111,\"#46039f\"],[0.2222222222222222,\"#7201a8\"],[0.3333333333333333,\"#9c179e\"],[0.4444444444444444,\"#bd3786\"],[0.5555555555555556,\"#d8576b\"],[0.6666666666666666,\"#ed7953\"],[0.7777777777777778,\"#fb9f3a\"],[0.8888888888888888,\"#fdca26\"],[1.0,\"#f0f921\"]]}],\"mesh3d\":[{\"type\":\"mesh3d\",\"colorbar\":{\"outlinewidth\":0,\"ticks\":\"\"}}],\"scatter\":[{\"fillpattern\":{\"fillmode\":\"overlay\",\"size\":10,\"solidity\":0.2},\"type\":\"scatter\"}],\"parcoords\":[{\"type\":\"parcoords\",\"line\":{\"colorbar\":{\"outlinewidth\":0,\"ticks\":\"\"}}}],\"scatterpolargl\":[{\"type\":\"scatterpolargl\",\"marker\":{\"colorbar\":{\"outlinewidth\":0,\"ticks\":\"\"}}}],\"bar\":[{\"error_x\":{\"color\":\"#2a3f5f\"},\"error_y\":{\"color\":\"#2a3f5f\"},\"marker\":{\"line\":{\"color\":\"#E5ECF6\",\"width\":0.5},\"pattern\":{\"fillmode\":\"overlay\",\"size\":10,\"solidity\":0.2}},\"type\":\"bar\"}],\"scattergeo\":[{\"type\":\"scattergeo\",\"marker\":{\"colorbar\":{\"outlinewidth\":0,\"ticks\":\"\"}}}],\"scatterpolar\":[{\"type\":\"scatterpolar\",\"marker\":{\"colorbar\":{\"outlinewidth\":0,\"ticks\":\"\"}}}],\"histogram\":[{\"marker\":{\"pattern\":{\"fillmode\":\"overlay\",\"size\":10,\"solidity\":0.2}},\"type\":\"histogram\"}],\"scattergl\":[{\"type\":\"scattergl\",\"marker\":{\"colorbar\":{\"outlinewidth\":0,\"ticks\":\"\"}}}],\"scatter3d\":[{\"type\":\"scatter3d\",\"line\":{\"colorbar\":{\"outlinewidth\":0,\"ticks\":\"\"}},\"marker\":{\"colorbar\":{\"outlinewidth\":0,\"ticks\":\"\"}}}],\"scattermapbox\":[{\"type\":\"scattermapbox\",\"marker\":{\"colorbar\":{\"outlinewidth\":0,\"ticks\":\"\"}}}],\"scatterternary\":[{\"type\":\"scatterternary\",\"marker\":{\"colorbar\":{\"outlinewidth\":0,\"ticks\":\"\"}}}],\"scattercarpet\":[{\"type\":\"scattercarpet\",\"marker\":{\"colorbar\":{\"outlinewidth\":0,\"ticks\":\"\"}}}],\"carpet\":[{\"aaxis\":{\"endlinecolor\":\"#2a3f5f\",\"gridcolor\":\"white\",\"linecolor\":\"white\",\"minorgridcolor\":\"white\",\"startlinecolor\":\"#2a3f5f\"},\"baxis\":{\"endlinecolor\":\"#2a3f5f\",\"gridcolor\":\"white\",\"linecolor\":\"white\",\"minorgridcolor\":\"white\",\"startlinecolor\":\"#2a3f5f\"},\"type\":\"carpet\"}],\"table\":[{\"cells\":{\"fill\":{\"color\":\"#EBF0F8\"},\"line\":{\"color\":\"white\"}},\"header\":{\"fill\":{\"color\":\"#C8D4E3\"},\"line\":{\"color\":\"white\"}},\"type\":\"table\"}],\"barpolar\":[{\"marker\":{\"line\":{\"color\":\"#E5ECF6\",\"width\":0.5},\"pattern\":{\"fillmode\":\"overlay\",\"size\":10,\"solidity\":0.2}},\"type\":\"barpolar\"}],\"pie\":[{\"automargin\":true,\"type\":\"pie\"}]},\"layout\":{\"autotypenumbers\":\"strict\",\"colorway\":[\"#636efa\",\"#EF553B\",\"#00cc96\",\"#ab63fa\",\"#FFA15A\",\"#19d3f3\",\"#FF6692\",\"#B6E880\",\"#FF97FF\",\"#FECB52\"],\"font\":{\"color\":\"#2a3f5f\"},\"hovermode\":\"closest\",\"hoverlabel\":{\"align\":\"left\"},\"paper_bgcolor\":\"white\",\"plot_bgcolor\":\"#E5ECF6\",\"polar\":{\"bgcolor\":\"#E5ECF6\",\"angularaxis\":{\"gridcolor\":\"white\",\"linecolor\":\"white\",\"ticks\":\"\"},\"radialaxis\":{\"gridcolor\":\"white\",\"linecolor\":\"white\",\"ticks\":\"\"}},\"ternary\":{\"bgcolor\":\"#E5ECF6\",\"aaxis\":{\"gridcolor\":\"white\",\"linecolor\":\"white\",\"ticks\":\"\"},\"baxis\":{\"gridcolor\":\"white\",\"linecolor\":\"white\",\"ticks\":\"\"},\"caxis\":{\"gridcolor\":\"white\",\"linecolor\":\"white\",\"ticks\":\"\"}},\"coloraxis\":{\"colorbar\":{\"outlinewidth\":0,\"ticks\":\"\"}},\"colorscale\":{\"sequential\":[[0.0,\"#0d0887\"],[0.1111111111111111,\"#46039f\"],[0.2222222222222222,\"#7201a8\"],[0.3333333333333333,\"#9c179e\"],[0.4444444444444444,\"#bd3786\"],[0.5555555555555556,\"#d8576b\"],[0.6666666666666666,\"#ed7953\"],[0.7777777777777778,\"#fb9f3a\"],[0.8888888888888888,\"#fdca26\"],[1.0,\"#f0f921\"]],\"sequentialminus\":[[0.0,\"#0d0887\"],[0.1111111111111111,\"#46039f\"],[0.2222222222222222,\"#7201a8\"],[0.3333333333333333,\"#9c179e\"],[0.4444444444444444,\"#bd3786\"],[0.5555555555555556,\"#d8576b\"],[0.6666666666666666,\"#ed7953\"],[0.7777777777777778,\"#fb9f3a\"],[0.8888888888888888,\"#fdca26\"],[1.0,\"#f0f921\"]],\"diverging\":[[0,\"#8e0152\"],[0.1,\"#c51b7d\"],[0.2,\"#de77ae\"],[0.3,\"#f1b6da\"],[0.4,\"#fde0ef\"],[0.5,\"#f7f7f7\"],[0.6,\"#e6f5d0\"],[0.7,\"#b8e186\"],[0.8,\"#7fbc41\"],[0.9,\"#4d9221\"],[1,\"#276419\"]]},\"xaxis\":{\"gridcolor\":\"white\",\"linecolor\":\"white\",\"ticks\":\"\",\"title\":{\"standoff\":15},\"zerolinecolor\":\"white\",\"automargin\":true,\"zerolinewidth\":2},\"yaxis\":{\"gridcolor\":\"white\",\"linecolor\":\"white\",\"ticks\":\"\",\"title\":{\"standoff\":15},\"zerolinecolor\":\"white\",\"automargin\":true,\"zerolinewidth\":2},\"scene\":{\"xaxis\":{\"backgroundcolor\":\"#E5ECF6\",\"gridcolor\":\"white\",\"linecolor\":\"white\",\"showbackground\":true,\"ticks\":\"\",\"zerolinecolor\":\"white\",\"gridwidth\":2},\"yaxis\":{\"backgroundcolor\":\"#E5ECF6\",\"gridcolor\":\"white\",\"linecolor\":\"white\",\"showbackground\":true,\"ticks\":\"\",\"zerolinecolor\":\"white\",\"gridwidth\":2},\"zaxis\":{\"backgroundcolor\":\"#E5ECF6\",\"gridcolor\":\"white\",\"linecolor\":\"white\",\"showbackground\":true,\"ticks\":\"\",\"zerolinecolor\":\"white\",\"gridwidth\":2}},\"shapedefaults\":{\"line\":{\"color\":\"#2a3f5f\"}},\"annotationdefaults\":{\"arrowcolor\":\"#2a3f5f\",\"arrowhead\":0,\"arrowwidth\":1},\"geo\":{\"bgcolor\":\"white\",\"landcolor\":\"#E5ECF6\",\"subunitcolor\":\"white\",\"showland\":true,\"showlakes\":true,\"lakecolor\":\"white\"},\"title\":{\"x\":0.05},\"mapbox\":{\"style\":\"light\"}}},\"scene\":{\"domain\":{\"x\":[0.0,1.0],\"y\":[0.0,1.0]},\"xaxis\":{\"title\":{\"text\":\"sepal length (cm)\"}},\"yaxis\":{\"title\":{\"text\":\"sepal width (cm)\"}},\"zaxis\":{\"title\":{\"text\":\"petal width (cm)\"}}},\"legend\":{\"title\":{\"text\":\"target name\"},\"tracegroupgap\":0},\"margin\":{\"t\":60}},                        {\"responsive\": true}                    ).then(function(){\n",
              "                            \n",
              "var gd = document.getElementById('1fa84f18-ee29-467d-bee5-71c3f753463d');\n",
              "var x = new MutationObserver(function (mutations, observer) {{\n",
              "        var display = window.getComputedStyle(gd).display;\n",
              "        if (!display || display === 'none') {{\n",
              "            console.log([gd, 'removed!']);\n",
              "            Plotly.purge(gd);\n",
              "            observer.disconnect();\n",
              "        }}\n",
              "}});\n",
              "\n",
              "// Listen for the removal of the full notebook cells\n",
              "var notebookContainer = gd.closest('#notebook-container');\n",
              "if (notebookContainer) {{\n",
              "    x.observe(notebookContainer, {childList: true});\n",
              "}}\n",
              "\n",
              "// Listen for the clearing of the current output cell\n",
              "var outputEl = gd.closest('.output');\n",
              "if (outputEl) {{\n",
              "    x.observe(outputEl, {childList: true});\n",
              "}}\n",
              "\n",
              "                        })                };                            </script>        </div>\n",
              "</body>\n",
              "</html>"
            ]
          },
          "metadata": {}
        },
        {
          "output_type": "display_data",
          "data": {
            "text/plain": [
              "<Figure size 800x800 with 0 Axes>"
            ]
          },
          "metadata": {}
        }
      ],
      "source": [
        "# 3d plot\n",
        "fig = plt.figure(figsize=(8, 8))\n",
        "fig = px.scatter_3d(df, x='sepal length (cm)', y='sepal width (cm)', z='petal width (cm)',\n",
        "                    color='target name')\n",
        "fig.show()"
      ]
    },
    {
      "cell_type": "markdown",
      "id": "edab397d",
      "metadata": {
        "id": "edab397d"
      },
      "source": [
        "Можем также заметить, что в наших данных есть явные выбросы -- точки, которые имеют один класс, но лежат в окружении точек, которые совершенно из другого класса.\n",
        "\n",
        "**Но это \"выбросы\"именно в рамках это визуализации и использованных параметров!** Если мы посмотрим на общую картину с учетом `petal length (cm)`, то этих выбросов может не оказаться -- подумайте над этим самостоятельно."
      ]
    },
    {
      "cell_type": "markdown",
      "id": "ccbb233f",
      "metadata": {
        "id": "ccbb233f"
      },
      "source": [
        "Теперь выделим отдельно матрицу с признаками (матрица дизайна) и целевые значения в формате `numpy` для дальнейшего использования в нашей модели."
      ]
    },
    {
      "cell_type": "code",
      "execution_count": 8,
      "id": "173e7830",
      "metadata": {
        "colab": {
          "base_uri": "https://localhost:8080/"
        },
        "id": "173e7830",
        "outputId": "2a4274de-1727-491e-89da-217e6ffca52f"
      },
      "outputs": [
        {
          "output_type": "execute_result",
          "data": {
            "text/plain": [
              "((150, 4), (150,))"
            ]
          },
          "metadata": {},
          "execution_count": 8
        }
      ],
      "source": [
        "features = iris_dataset.data\n",
        "target = iris_dataset.target\n",
        "\n",
        "features.shape, target.shape"
      ]
    },
    {
      "cell_type": "markdown",
      "id": "a5f69a57",
      "metadata": {
        "id": "a5f69a57"
      },
      "source": [
        "Как видим, всего 3 класса, причем порядок -- последовательный. Поэтому надо хорошо перемешать все семплы перед использованием."
      ]
    },
    {
      "cell_type": "code",
      "execution_count": 9,
      "id": "a61d6fac",
      "metadata": {
        "colab": {
          "base_uri": "https://localhost:8080/"
        },
        "id": "a61d6fac",
        "outputId": "820d362a-e9a4-4378-b863-7299ad326370"
      },
      "outputs": [
        {
          "output_type": "execute_result",
          "data": {
            "text/plain": [
              "array([0, 0, 0, 0, 0, 0, 0, 0, 0, 0, 0, 0, 0, 0, 0, 0, 0, 0, 0, 0, 0, 0,\n",
              "       0, 0, 0, 0, 0, 0, 0, 0, 0, 0, 0, 0, 0, 0, 0, 0, 0, 0, 0, 0, 0, 0,\n",
              "       0, 0, 0, 0, 0, 0, 1, 1, 1, 1, 1, 1, 1, 1, 1, 1, 1, 1, 1, 1, 1, 1,\n",
              "       1, 1, 1, 1, 1, 1, 1, 1, 1, 1, 1, 1, 1, 1, 1, 1, 1, 1, 1, 1, 1, 1,\n",
              "       1, 1, 1, 1, 1, 1, 1, 1, 1, 1, 1, 1, 2, 2, 2, 2, 2, 2, 2, 2, 2, 2,\n",
              "       2, 2, 2, 2, 2, 2, 2, 2, 2, 2, 2, 2, 2, 2, 2, 2, 2, 2, 2, 2, 2, 2,\n",
              "       2, 2, 2, 2, 2, 2, 2, 2, 2, 2, 2, 2, 2, 2, 2, 2, 2, 2])"
            ]
          },
          "metadata": {},
          "execution_count": 9
        }
      ],
      "source": [
        "target"
      ]
    },
    {
      "cell_type": "markdown",
      "id": "fc8fc1d0",
      "metadata": {
        "id": "fc8fc1d0"
      },
      "source": [
        "Создадим для этого функцию для разделения на train и test подвыборки."
      ]
    },
    {
      "cell_type": "code",
      "execution_count": 10,
      "id": "eda23805",
      "metadata": {
        "id": "eda23805"
      },
      "outputs": [],
      "source": [
        "def train_test_split_data(X, y, train_percentage=0.7):\n",
        "    num_data_points = X.shape[0]\n",
        "\n",
        "    train_data_points = int(num_data_points * train_percentage)\n",
        "\n",
        "    all_idx = np.arange(num_data_points)\n",
        "    np.random.shuffle(all_idx)\n",
        "\n",
        "    train_idx = all_idx[:train_data_points]\n",
        "    test_idx = all_idx[train_data_points:]\n",
        "\n",
        "    return X[train_idx], y[train_idx], X[test_idx], y[test_idx]"
      ]
    },
    {
      "cell_type": "markdown",
      "id": "9bbacbed",
      "metadata": {
        "id": "9bbacbed"
      },
      "source": [
        "### Инициализация, использование и тестирование модели"
      ]
    },
    {
      "cell_type": "markdown",
      "id": "c72fde80",
      "metadata": {
        "id": "c72fde80"
      },
      "source": [
        "Инициализируем модель с гиперпараметром `k_neighbours = 5`."
      ]
    },
    {
      "cell_type": "code",
      "execution_count": 11,
      "id": "de083507",
      "metadata": {
        "id": "de083507"
      },
      "outputs": [],
      "source": [
        "# fix seed for reproducibility\n",
        "np.random.seed(2)\n",
        "\n",
        "k_neighbours = 5\n",
        "knn_voting_clf = KNNVotingClassifier(k_neighbours)"
      ]
    },
    {
      "cell_type": "markdown",
      "id": "f908d0da",
      "metadata": {
        "id": "f908d0da"
      },
      "source": [
        "Создадим сплит на тест и обучающую выборки. Будем использовать соотношение 70/30 -- 70% данных на обучение, а остальные 30% -- на валидацию."
      ]
    },
    {
      "cell_type": "code",
      "execution_count": 12,
      "id": "e761cc87",
      "metadata": {
        "id": "e761cc87"
      },
      "outputs": [],
      "source": [
        "X_train, y_train, X_test, y_test = train_test_split_data(features, target)"
      ]
    },
    {
      "cell_type": "markdown",
      "id": "f06f005b",
      "metadata": {
        "id": "f06f005b"
      },
      "source": [
        "Сделаем fit-predict."
      ]
    },
    {
      "cell_type": "code",
      "execution_count": 14,
      "id": "7a8c19a0",
      "metadata": {
        "id": "7a8c19a0"
      },
      "outputs": [],
      "source": [
        "knn_voting_clf.fit(X_train, y_train)\n",
        "y_pred = knn_voting_clf.predict(X_test)\n"
      ]
    },
    {
      "cell_type": "markdown",
      "id": "8b12da42",
      "metadata": {
        "id": "8b12da42"
      },
      "source": [
        "И сначала просто визуально посмотрим на предсказания.\n",
        "\n",
        "В виде \"из коробки\" мы имеем на самом деле матрицу размера `(n, 1)` -- и именно так и должен выглядеть аутпут модели. Для того, чтобы привести ее к виду, соотносимому с тестовыми данными в датасете, мы можем применить метод `squeeze()` к нампаевскому массиву."
      ]
    },
    {
      "cell_type": "code",
      "execution_count": 15,
      "id": "311349af",
      "metadata": {
        "colab": {
          "base_uri": "https://localhost:8080/"
        },
        "id": "311349af",
        "outputId": "0a08c069-721a-4748-a425-539be84fd785"
      },
      "outputs": [
        {
          "output_type": "execute_result",
          "data": {
            "text/plain": [
              "array([0., 0., 1., 2., 1., 2., 1., 1., 2., 1., 1., 1., 2., 2., 2., 2., 0.,\n",
              "       1., 1., 1., 1., 2., 1., 0., 0., 2., 1., 2., 0., 2., 0., 2., 2., 0.,\n",
              "       1., 0., 2., 1., 0., 2., 1., 0., 0., 2., 0.])"
            ]
          },
          "metadata": {},
          "execution_count": 15
        }
      ],
      "source": [
        "y_pred.squeeze()"
      ]
    },
    {
      "cell_type": "code",
      "execution_count": 16,
      "id": "4468faf1",
      "metadata": {
        "colab": {
          "base_uri": "https://localhost:8080/"
        },
        "id": "4468faf1",
        "outputId": "54f67173-b0a9-49d0-a094-a2b59f533690"
      },
      "outputs": [
        {
          "output_type": "execute_result",
          "data": {
            "text/plain": [
              "array([0, 0, 1, 2, 1, 2, 1, 1, 2, 1, 1, 1, 2, 1, 2, 1, 0, 1, 1, 1, 1, 2,\n",
              "       1, 0, 0, 2, 1, 2, 0, 2, 0, 2, 2, 0, 1, 0, 2, 1, 0, 2, 1, 0, 0, 1,\n",
              "       0])"
            ]
          },
          "metadata": {},
          "execution_count": 16
        }
      ],
      "source": [
        "y_test"
      ]
    },
    {
      "cell_type": "markdown",
      "id": "161bd86a",
      "metadata": {
        "id": "161bd86a"
      },
      "source": [
        "Проверим самую наивную метрику, которую всегда можно написать самому -- количество верных ответов на общее количество семплов.\n",
        "\n",
        "Это и есть `accuracy`."
      ]
    },
    {
      "cell_type": "code",
      "execution_count": 17,
      "id": "e7e76043",
      "metadata": {
        "colab": {
          "base_uri": "https://localhost:8080/"
        },
        "id": "e7e76043",
        "outputId": "5aa1d058-80e0-43f8-df68-b031149fc2a2"
      },
      "outputs": [
        {
          "output_type": "execute_result",
          "data": {
            "text/plain": [
              "0.9333333333333333"
            ]
          },
          "metadata": {},
          "execution_count": 17
        }
      ],
      "source": [
        "np.count_nonzero(y_test == y_pred.squeeze()) / y_test.shape[0]"
      ]
    },
    {
      "cell_type": "markdown",
      "id": "50608855",
      "metadata": {
        "id": "50608855"
      },
      "source": [
        "Проверим, что наша импелементация метрики соотносится с имплементацией метрики из `sklearn`, а также проверим другие метрики, такие как многоклассовый (микро-усредненный) F1-Score, ROC-AUC Score и Precision Score."
      ]
    },
    {
      "cell_type": "code",
      "execution_count": 18,
      "id": "d3675c8b",
      "metadata": {
        "colab": {
          "base_uri": "https://localhost:8080/"
        },
        "id": "d3675c8b",
        "outputId": "6efcfd77-0dfe-4ce2-e599-97f2a07b5597"
      },
      "outputs": [
        {
          "output_type": "execute_result",
          "data": {
            "text/plain": [
              "0.9333333333333333"
            ]
          },
          "metadata": {},
          "execution_count": 18
        }
      ],
      "source": [
        "accuracy_score(y_test, y_pred)"
      ]
    },
    {
      "cell_type": "code",
      "execution_count": 19,
      "id": "81893d12",
      "metadata": {
        "colab": {
          "base_uri": "https://localhost:8080/"
        },
        "id": "81893d12",
        "outputId": "fd3f7899-c0e1-4802-ef8b-cc0b98cf3595"
      },
      "outputs": [
        {
          "output_type": "execute_result",
          "data": {
            "text/plain": [
              "0.9333333333333333"
            ]
          },
          "metadata": {},
          "execution_count": 19
        }
      ],
      "source": [
        "f1_score(y_test, y_pred, average='micro')"
      ]
    },
    {
      "cell_type": "code",
      "execution_count": 20,
      "id": "a2ad8c11",
      "metadata": {
        "colab": {
          "base_uri": "https://localhost:8080/"
        },
        "id": "a2ad8c11",
        "outputId": "3499f85e-febf-4db4-9684-9b093c0df026"
      },
      "outputs": [
        {
          "output_type": "execute_result",
          "data": {
            "text/plain": [
              "0.9580592105263158"
            ]
          },
          "metadata": {},
          "execution_count": 20
        }
      ],
      "source": [
        "encoder = OneHotEncoder()\n",
        "\n",
        "roc_auc_score(encoder.fit_transform(y_test[:, np.newaxis]).toarray(),\n",
        "              encoder.fit_transform(y_pred).toarray(),\n",
        "              multi_class='ovr')"
      ]
    },
    {
      "cell_type": "code",
      "execution_count": 21,
      "id": "ab036ce0",
      "metadata": {
        "colab": {
          "base_uri": "https://localhost:8080/"
        },
        "id": "ab036ce0",
        "outputId": "886ebda5-9aaa-4679-f3ce-f915a8e48c29"
      },
      "outputs": [
        {
          "output_type": "execute_result",
          "data": {
            "text/plain": [
              "0.9333333333333333"
            ]
          },
          "metadata": {},
          "execution_count": 21
        }
      ],
      "source": [
        "precision_score(y_test, y_pred, average='micro')"
      ]
    },
    {
      "cell_type": "markdown",
      "id": "f001a8f8",
      "metadata": {
        "id": "f001a8f8"
      },
      "source": [
        "### Зависимость от количества соседей (k_neighbours)"
      ]
    },
    {
      "cell_type": "markdown",
      "id": "71775b51",
      "metadata": {
        "id": "71775b51"
      },
      "source": [
        "Давайте посмотрим на зависимость нашей модели от гиперпараметра `k_neighbours` количества соседей."
      ]
    },
    {
      "cell_type": "code",
      "execution_count": 39,
      "id": "f94ff5e5",
      "metadata": {
        "id": "f94ff5e5"
      },
      "outputs": [],
      "source": [
        "accuracies = []\n",
        "X_train, y_train, X_test, y_test = train_test_split_data(features, target)\n",
        "\n",
        "for k in range(1, 30):\n",
        "    knn_voting_clf = KNNVotingClassifier(k)\n",
        "    knn_voting_clf.fit(X_train, y_train)\n",
        "    y_pred = knn_voting_clf.predict(X_test)\n",
        "    accuracy = np.count_nonzero(y_test == y_pred.squeeze()) / y_test.shape[0]\n",
        "    accuracies.append(accuracy)"
      ]
    },
    {
      "cell_type": "code",
      "execution_count": 40,
      "id": "e8941e6d",
      "metadata": {
        "colab": {
          "base_uri": "https://localhost:8080/",
          "height": 447
        },
        "id": "e8941e6d",
        "outputId": "b9384c18-38ff-4c15-c5f7-20a91ad38115"
      },
      "outputs": [
        {
          "output_type": "execute_result",
          "data": {
            "text/plain": [
              "[<matplotlib.lines.Line2D at 0x7904257b3ac0>]"
            ]
          },
          "metadata": {},
          "execution_count": 40
        },
        {
          "output_type": "display_data",
          "data": {
            "text/plain": [
              "<Figure size 640x480 with 1 Axes>"
            ],
            "image/png": "[encoded data removed]"
          },
          "metadata": {}
        }
      ],
      "source": [
        "plt.plot(range(1, 30), accuracies)"
      ]
    },
    {
      "cell_type": "markdown",
      "id": "5be2c0fa",
      "metadata": {
        "id": "5be2c0fa"
      },
      "source": [
        "Почему мы видим такую зависимость?"
      ]
    },
    {
      "cell_type": "markdown",
      "id": "6946c115",
      "metadata": {
        "id": "6946c115"
      },
      "source": [
        "### Визуализация предсказаний и разделяющих плоскостей"
      ]
    },
    {
      "cell_type": "markdown",
      "id": "243b21f6",
      "metadata": {
        "id": "243b21f6"
      },
      "source": [
        "Для ответа на вопрос, произведем визуализацию предсказаний и разделяющих плоскостей.\n",
        "\n",
        "Для того, чтобы быстрее и удобнее визуализировать данные на 2D-плоскости, будем пользоваться только двумя последними фичами датасета.\n",
        "\n",
        "**Почему именно двумя последними?** Если вернуться выше, то мы можем видеть в документации датасета `iris_dataset.DESCR`, что две последние фичи являются самыми кореллирующимися с нашими целевыми переменными.\n",
        "\n",
        "**А почему именно двумя (а не тремя или одним)?** Все просто -- для визуализации на плоскости нам нужно как раз два измерения -- это ось абсцисс и ординат. Разумеется, выбор двух фичей -- не самая лучшая затея (и не самая практичная и широко применимая), поэтому для реальных задач лучше пользоваться методами для понижения размерности (PCA, SVD и др.), но так как у нас самые сильные корелляции уже приходятся на 2 последние фичи -- мы просто можем взять их."
      ]
    },
    {
      "cell_type": "code",
      "execution_count": 24,
      "id": "6f824f25",
      "metadata": {
        "id": "6f824f25"
      },
      "outputs": [],
      "source": [
        "def get_meshgrid(data, step=.05, border=.5,):\n",
        "    x_min, x_max = data[:, 0].min() - border, data[:, 0].max() + border\n",
        "    y_min, y_max = data[:, 1].min() - border, data[:, 1].max() + border\n",
        "    return np.meshgrid(np.arange(x_min, x_max, step), np.arange(y_min, y_max, step))\n",
        "\n",
        "def plot_decision_surface(estimator, train_data, train_labels, test_data, test_labels):\n",
        "    colors = ListedColormap(['red', 'blue', 'yellow'])\n",
        "    light_colors = ListedColormap(['lightcoral', 'lightblue', 'lightyellow'])\n",
        "\n",
        "    #fit model\n",
        "    estimator.fit(train_data, train_labels)\n",
        "\n",
        "    #set figure size\n",
        "    pyplot.figure(figsize = (16, 6))\n",
        "\n",
        "    #plot decision surface on the train data\n",
        "    pyplot.subplot(1, 2, 1)\n",
        "    xx, yy = get_meshgrid(train_data)\n",
        "    mesh_predictions = np.array(estimator.predict(np.c_[xx.ravel(), yy.ravel()])).reshape(xx.shape)\n",
        "    pyplot.pcolormesh(xx, yy, mesh_predictions, cmap=light_colors)\n",
        "    pyplot.scatter(train_data[:, 0], train_data[:, 1], c=train_labels, s=100, cmap=colors)\n",
        "    pyplot.title('Train data, accuracy={:.2f}'.format(accuracy_score(train_labels, estimator.predict(train_data))))\n",
        "\n",
        "    #plot decision surface on the test data\n",
        "    pyplot.subplot(1, 2, 2)\n",
        "    pyplot.pcolormesh(xx, yy, mesh_predictions, cmap=light_colors)\n",
        "    pyplot.scatter(test_data[:, 0], test_data[:, 1], c=test_labels, s=100, cmap=colors)\n",
        "    pyplot.title('Test data, accuracy={:.2f}'.format(accuracy_score(test_labels, estimator.predict(test_data))))"
      ]
    },
    {
      "cell_type": "code",
      "execution_count": 43,
      "id": "627ecffb",
      "metadata": {
        "colab": {
          "base_uri": "https://localhost:8080/",
          "height": 545
        },
        "id": "627ecffb",
        "outputId": "a1ce7108-ba2a-41de-fa2d-17ec591b721a"
      },
      "outputs": [
        {
          "output_type": "display_data",
          "data": {
            "text/plain": [
              "<Figure size 1600x600 with 2 Axes>"
            ],
            "image/png": "[encoded data removed]"
          },
          "metadata": {}
        }
      ],
      "source": [
        "k_neighbours = 5\n",
        "knn_voting_clf = KNNVotingClassifier(k_neighbours)\n",
        "plot_decision_surface(knn_voting_clf, X_train[:, 2:], y_train, X_test[:, 2:], y_test)"
      ]
    },
    {
      "cell_type": "code",
      "execution_count": 44,
      "id": "87053300",
      "metadata": {
        "colab": {
          "base_uri": "https://localhost:8080/",
          "height": 545
        },
        "id": "87053300",
        "outputId": "66e86795-fa4e-4fd0-97b9-d92d10178f01"
      },
      "outputs": [
        {
          "output_type": "display_data",
          "data": {
            "text/plain": [
              "<Figure size 1600x600 with 2 Axes>"
            ],
            "image/png": "[encoded data removed]"
          },
          "metadata": {}
        }
      ],
      "source": [
        "k_neighbours = 6\n",
        "knn_voting_clf = KNNVotingClassifier(k_neighbours)\n",
        "plot_decision_surface(knn_voting_clf, X_train[:, 2:], y_train, X_test[:, 2:], y_test)"
      ]
    },
    {
      "cell_type": "markdown",
      "id": "a648ace0",
      "metadata": {
        "id": "a648ace0"
      },
      "source": [
        "А теперь резко увеличим количество ближайших соседей.\n"
      ]
    },
    {
      "cell_type": "code",
      "execution_count": 45,
      "id": "479f2c7a",
      "metadata": {
        "colab": {
          "base_uri": "https://localhost:8080/",
          "height": 545
        },
        "id": "479f2c7a",
        "outputId": "bf1a36c5-599a-444f-ee48-30abd6cf662f"
      },
      "outputs": [
        {
          "output_type": "display_data",
          "data": {
            "text/plain": [
              "<Figure size 1600x600 with 2 Axes>"
            ],
            "image/png": "[encoded data removed]"
          },
          "metadata": {}
        }
      ],
      "source": [
        "k_neighbours = 35\n",
        "knn_voting_clf = KNNVotingClassifier(k_neighbours)\n",
        "plot_decision_surface(knn_voting_clf, X_train[:, 2:], y_train, X_test[:, 2:], y_test)"
      ]
    },
    {
      "cell_type": "markdown",
      "id": "523d7c3d",
      "metadata": {
        "id": "523d7c3d"
      },
      "source": [
        "### Сравнение с sklearn"
      ]
    },
    {
      "cell_type": "markdown",
      "id": "5e0fb43e",
      "metadata": {
        "id": "5e0fb43e"
      },
      "source": [
        "Проверим, что наша импелементация модели соотносится с имплементацией `KNeighborsClassifier` из `sklearn`."
      ]
    },
    {
      "cell_type": "code",
      "execution_count": 46,
      "id": "1308b5d2",
      "metadata": {
        "colab": {
          "base_uri": "https://localhost:8080/"
        },
        "id": "1308b5d2",
        "outputId": "50510276-96e0-4d69-f91b-85b9a01f7bb3"
      },
      "outputs": [
        {
          "output_type": "stream",
          "name": "stdout",
          "text": [
            "Sklearn kNN Accuracy = 1.0\n",
            "Sklearn kNN F1-Score = 1.0\n"
          ]
        }
      ],
      "source": [
        "sk_knn_clf = KNeighborsClassifier(10,\n",
        "                                  metric='euclidean',\n",
        "                                  algorithm='brute')\n",
        "sk_knn_clf.fit(X_train, y_train)\n",
        "\n",
        "y_pred = sk_knn_clf.predict(X_test)\n",
        "print('Sklearn kNN Accuracy =', accuracy_score(y_test, y_pred))\n",
        "print('Sklearn kNN F1-Score =', f1_score(y_test, y_pred, average='micro'))"
      ]
    },
    {
      "cell_type": "markdown",
      "id": "c53472cd",
      "metadata": {
        "id": "c53472cd"
      },
      "source": [
        "Видно, что метрики сопоставимы. Проверим теперь корелляцию точности модели с гиперпараметром количества соседей."
      ]
    },
    {
      "cell_type": "code",
      "execution_count": 47,
      "id": "fa58c1db",
      "metadata": {
        "id": "fa58c1db"
      },
      "outputs": [],
      "source": [
        "accuracies = []\n",
        "X_train, y_train, X_test, y_test = train_test_split_data(features, target)\n",
        "\n",
        "for k in range(1, 30):\n",
        "    knn_voting_clf = KNeighborsClassifier(k, metric='euclidean', algorithm='brute')\n",
        "    knn_voting_clf.fit(X_train, y_train)\n",
        "    y_pred = knn_voting_clf.predict(X_test)\n",
        "    accuracy = np.count_nonzero(y_test == y_pred.squeeze()) / y_test.shape[0]\n",
        "    accuracies.append(accuracy)"
      ]
    },
    {
      "cell_type": "code",
      "execution_count": 48,
      "id": "a4abb52e",
      "metadata": {
        "colab": {
          "base_uri": "https://localhost:8080/",
          "height": 452
        },
        "id": "a4abb52e",
        "outputId": "ad4c9ed8-fef7-4ee5-ff1b-2589b0da591c"
      },
      "outputs": [
        {
          "output_type": "execute_result",
          "data": {
            "text/plain": [
              "[<matplotlib.lines.Line2D at 0x790425a91990>]"
            ]
          },
          "metadata": {},
          "execution_count": 48
        },
        {
          "output_type": "display_data",
          "data": {
            "text/plain": [
              "<Figure size 640x480 with 1 Axes>"
            ],
            "image/png": "[encoded data removed]"
          },
          "metadata": {}
        }
      ],
      "source": [
        "plt.plot(range(1, 30), accuracies)"
      ]
    },
    {
      "cell_type": "markdown",
      "id": "f42602f6-2de5-4850-8c63-24129cbc3cde",
      "metadata": {
        "id": "f42602f6-2de5-4850-8c63-24129cbc3cde"
      },
      "source": [
        "### Проведем анализ ошибок\n",
        "\n",
        "Как ошибки связаны с расстоянием до других объектов класса?\n",
        "\n",
        "Какая реальная зависимость точности от гиперпараметра `k_neighbours`? Проведите анализ -- почему она такая?\n",
        "\n",
        "Почему реализация \"из коробки\" отличается от нашей реализации? Подсказка: посмотрите в [документацию](https://scikit-learn.org/stable/modules/generated/sklearn.neighbors.KNeighborsClassifier.html?highlight=kneighbors#sklearn.neighbors.KNeighborsClassifier.kneighbors)."
      ]
    },
    {
      "cell_type": "markdown",
      "source": [
        "1) Чем дальше классы расположены друг от друга, тем легче их отделить и результаты KNN будут надежнее. Т.е. все точки одного класса должны иметь какую-то границу, до которой они все не доходят. Тогда будет легко разделить классы при помощи гиперплоскости.\n",
        "\n",
        "2) Мы видим, что четко выраженной зависимости нет и при разных K_neighbour результаты accuracy сильно меняется. Очевидно, что надо избегать крайностей, нельзя сделать k_neighbours равной всей выборке и нужно смотреть на структуру данных, прежде чем фиксировать гиперпараметр K_neighbour ."
      ],
      "metadata": {
        "id": "wDYmyVkOZogW"
      },
      "id": "wDYmyVkOZogW"
    },
    {
      "cell_type": "markdown",
      "id": "7e1bcee0-504a-4550-a9fc-c4fc2ec3fc2a",
      "metadata": {
        "id": "7e1bcee0-504a-4550-a9fc-c4fc2ec3fc2a"
      },
      "source": [
        "### Practice"
      ]
    },
    {
      "cell_type": "markdown",
      "id": "c7b64092-7361-4e0d-81f4-078ff3595699",
      "metadata": {
        "id": "c7b64092-7361-4e0d-81f4-078ff3595699"
      },
      "source": [
        "Допустим мы хотим модифицировать наш алгоритм так, чтобы объекты, которые находятся рядом с предсказываемым объектом имели больший вес при классификации, чем объекты которые далеки от него. Добавьте  булевый аттрибут **weight_samples** в **KNNClassifier** класс, который сможет учитывать такое поведение."
      ]
    },
    {
      "cell_type": "code",
      "execution_count": 50,
      "id": "c0de7fde",
      "metadata": {
        "id": "c0de7fde"
      },
      "outputs": [],
      "source": [
        "class KNNWeightClassifier:\n",
        "    def __init__(self,\n",
        "                 k_neighbours: int,\n",
        "                 weight_samples: bool = True,\n",
        "                 metric: str = 'euclidean'):\n",
        "\n",
        "        self._allowed_metrics = {\n",
        "            'euclidean': lambda x, y: numpy_euclidean_norm(x - y),\n",
        "        }\n",
        "\n",
        "        assert metric in self._allowed_metrics, f\"Metric should be one of the {self._allowed_metrics.keys()}, got {metric}\"\n",
        "\n",
        "        self._metric = self._allowed_metrics[metric]\n",
        "        self._k_neighbours = k_neighbours\n",
        "        self._weight_samples = weight_samples\n",
        "\n",
        "        self._X, self._y = None, None\n",
        "\n",
        "    def fit(self, X: np.array, y: np.array) -> None:\n",
        "        '''\n",
        "        When fit() method called -- model just saves the Xs and ys\n",
        "        '''\n",
        "        self._X = X\n",
        "        self._y = y\n",
        "\n",
        "    def predict(self, X: np.array) -> np.array:\n",
        "        '''Non-optimized version (python loop-based)'''\n",
        "\n",
        "        # Assertion check -- if model is fitted or not\n",
        "        assert (self._X is not None and self._y is not None), f\"Model is not fitted yet!\"\n",
        "\n",
        "        ys_pred: np.array = np.zeros(shape=(X.shape[0], 1)) # Predictions matrix allocation\n",
        "\n",
        "        '''\n",
        "        For each sample in X calculate distances to the points in self._X, using the self._metric()\n",
        "        calculate distances and get K nearest points.\n",
        "        '''\n",
        "        for sample_id, X_this in enumerate(X):\n",
        "            distances: List = []\n",
        "\n",
        "            for train_id, X_other in enumerate(self._X):\n",
        "                distance = self._metric(X_this, X_other)\n",
        "                distances.append({\n",
        "                    'train_id': train_id,\n",
        "                    'distance': distance,\n",
        "                })\n",
        "            sorted_distances: List = self._sort_distances(distances)\n",
        "            y_pred: int = self._get_nearest_class(sorted_distances)\n",
        "            ys_pred[sample_id] = y_pred\n",
        "\n",
        "        return ys_pred\n",
        "\n",
        "    @staticmethod\n",
        "    def _sort_distances(distances: List, ascending=False) -> List:\n",
        "        return sorted(distances, key=lambda x: x['distance'], reverse=ascending)\n",
        "\n",
        "    def _get_nearest_class(self, sorted_distances: list) -> int:\n",
        "        sorted_distances_top_k: List = sorted_distances[:self._k_neighbours]\n",
        "        labels_top_k: List = [self._y[sample['train_id']] for sample in sorted_distances_top_k]\n",
        "        dist_top_k: List = [[sample_new['distance']] for sample_new in sorted_distances_top_k] # список для distances\n",
        "        CONST_A = 0.001 # чтобы искл. деление на 0\n",
        "        new_top_v = [[self._y[sample['train_id']],1/(sample['distance']+ CONST_A)] for sample in sorted_distances_top_k] # берем обратную величину к расстоянию (чем она больше, тем ближе объект)\n",
        "        predicted_label: int = self._decision_rule(new_top_v) # предсказываем метку\n",
        "        return predicted_label\n",
        "\n",
        "    @staticmethod\n",
        "    def _decision_rule(new_top_v: List) -> int:\n",
        "        z_list = [] # список для метки класса 0 - макс. длина списка k_neighbours\n",
        "        o_list = [] # список для метки класса 1 - макс. длина списка k_neighbours\n",
        "        t_list = [] # список для метки класса 2 - макс. длина списка k_neighbours\n",
        "        for i in new_top_v:\n",
        "          if i[0] == 0:\n",
        "            z_list.append(i[1]) # добавляем 1/distance для метки 0\n",
        "          elif i[0] == 1:\n",
        "            o_list.append(i[1]) # добавляем 1/distance для метки 1\n",
        "          elif i[0] == 2:\n",
        "            t_list.append(i[1]) # добавляем 1/distance для метки 2\n",
        "        total_sum = sum(z_list + o_list + t_list) # всего 1/distance\n",
        "        z_list_r = sum(z_list)/total_sum # доля от всей величины 1/distance\n",
        "        o_list_r = sum(o_list)/total_sum # доля от всей величины 1/distance\n",
        "        t_list_r = sum(t_list)/total_sum # доля от всей величины 1/distance\n",
        "        final_list = [z_list_r, o_list_r, t_list_r] # список\n",
        "        predicted_label = final_list.index(max(final_list)) # определяем индекс максимального значения - это и будет победитель (метка класса)\n",
        "        return predicted_label"
      ]
    },
    {
      "cell_type": "code",
      "source": [
        "# fix seed for reproducibility\n",
        "np.random.seed(2)\n",
        "\n",
        "k_neighbours = 5\n",
        "knn_voting_clf = KNNWeightClassifier(k_neighbours)"
      ],
      "metadata": {
        "id": "ehOpi-qYAhbL"
      },
      "id": "ehOpi-qYAhbL",
      "execution_count": 51,
      "outputs": []
    },
    {
      "cell_type": "code",
      "source": [
        "knn_voting_clf.fit(X_train, y_train)\n",
        "y_pred = knn_voting_clf.predict(X_test)\n"
      ],
      "metadata": {
        "id": "TUY3VZ3Tz_ed"
      },
      "id": "TUY3VZ3Tz_ed",
      "execution_count": 52,
      "outputs": []
    },
    {
      "cell_type": "code",
      "source": [
        "y_pred.squeeze()"
      ],
      "metadata": {
        "colab": {
          "base_uri": "https://localhost:8080/"
        },
        "id": "LGZBr-JACPvc",
        "outputId": "ffa943e2-16f9-4d83-e64a-58bbea296975"
      },
      "id": "LGZBr-JACPvc",
      "execution_count": 53,
      "outputs": [
        {
          "output_type": "execute_result",
          "data": {
            "text/plain": [
              "array([2., 0., 0., 1., 0., 2., 0., 2., 1., 1., 0., 0., 1., 0., 0., 1., 0.,\n",
              "       2., 0., 2., 0., 1., 0., 1., 1., 0., 0., 2., 1., 1., 2., 0., 0., 2.,\n",
              "       2., 1., 2., 1., 2., 0., 2., 0., 0., 0., 1.])"
            ]
          },
          "metadata": {},
          "execution_count": 53
        }
      ]
    },
    {
      "cell_type": "code",
      "source": [
        "y_test"
      ],
      "metadata": {
        "colab": {
          "base_uri": "https://localhost:8080/"
        },
        "id": "AOC1GjNXCWbm",
        "outputId": "43056943-a00a-4264-9fa9-b62c9a2b8576"
      },
      "id": "AOC1GjNXCWbm",
      "execution_count": 54,
      "outputs": [
        {
          "output_type": "execute_result",
          "data": {
            "text/plain": [
              "array([2, 0, 0, 1, 0, 2, 0, 2, 1, 1, 0, 0, 2, 0, 0, 1, 0, 2, 0, 2, 0, 1,\n",
              "       0, 1, 1, 0, 0, 2, 1, 1, 2, 0, 0, 2, 2, 1, 2, 1, 2, 0, 2, 0, 0, 0,\n",
              "       2])"
            ]
          },
          "metadata": {},
          "execution_count": 54
        }
      ]
    },
    {
      "cell_type": "code",
      "source": [
        "np.count_nonzero(y_test == y_pred.squeeze()) / y_test.shape[0]"
      ],
      "metadata": {
        "colab": {
          "base_uri": "https://localhost:8080/"
        },
        "id": "vEoTZQYbCx94",
        "outputId": "eea2cd3e-e7c3-4c32-ef51-74b843ed4c2e"
      },
      "id": "vEoTZQYbCx94",
      "execution_count": 55,
      "outputs": [
        {
          "output_type": "execute_result",
          "data": {
            "text/plain": [
              "0.9555555555555556"
            ]
          },
          "metadata": {},
          "execution_count": 55
        }
      ]
    },
    {
      "cell_type": "markdown",
      "source": [
        "Точность получилась выше, но это не всегда так. В данном случае учет расстояний помог улучшить аккуратность предсказания."
      ],
      "metadata": {
        "id": "w1IvLEUPfzX0"
      },
      "id": "w1IvLEUPfzX0"
    },
    {
      "cell_type": "markdown",
      "id": "6a2fcd46",
      "metadata": {
        "id": "6a2fcd46"
      },
      "source": [
        "## Practice со звездочкой*"
      ]
    },
    {
      "cell_type": "markdown",
      "id": "373d47a2",
      "metadata": {
        "id": "373d47a2"
      },
      "source": [
        "Предположим, что мы хотим выкатить нашу модельку в прод.\n",
        "\n",
        "Пускай теперь нам нужно выяснить, как долго будет выполняться одна итерация предсказания (будем считать, что на обучения у нас не уходит времени, т.к. эта операция выполняется за `О(1)`.\n",
        "\n",
        "Сделаем это:"
      ]
    },
    {
      "cell_type": "code",
      "execution_count": null,
      "id": "27de946b",
      "metadata": {
        "id": "27de946b",
        "outputId": "053bc9a6-ad2f-413e-9b63-37fee3cef561"
      },
      "outputs": [
        {
          "name": "stdout",
          "output_type": "stream",
          "text": [
            "8.45 ms ± 47.6 µs per loop (mean ± std. dev. of 4 runs, 3,000 loops each)\n"
          ]
        }
      ],
      "source": [
        "def test_custom():\n",
        "    knn_clf =  KNNVotingClassifier(6)\n",
        "    knn_clf.fit(X_train, y_train)\n",
        "    knn_clf.predict(X_test)\n",
        "\n",
        "%timeit -r 4 -n 3000 test_custom()"
      ]
    },
    {
      "cell_type": "markdown",
      "id": "42584986",
      "metadata": {
        "id": "42584986"
      },
      "source": [
        "Видим, что в среднем одна итерация занимает 8.45 миллисекунд. Кажется, что неплохо... Но правда ли неплохо?..\n",
        "\n",
        "Сравнимся с `sklearn`."
      ]
    },
    {
      "cell_type": "code",
      "execution_count": null,
      "id": "5690d72e",
      "metadata": {
        "id": "5690d72e",
        "outputId": "82ff268a-c2a5-414a-d642-fa96a15d2819"
      },
      "outputs": [
        {
          "name": "stdout",
          "output_type": "stream",
          "text": [
            "558 µs ± 4.36 µs per loop (mean ± std. dev. of 4 runs, 3,000 loops each)\n"
          ]
        }
      ],
      "source": [
        "def test_sklearn():\n",
        "    knn_clf =  KNeighborsClassifier(6)\n",
        "    knn_clf.fit(X_train, y_train)\n",
        "    knn_clf.predict(X_test)\n",
        "\n",
        "%timeit -r 4 -n 3000 test_sklearn()"
      ]
    },
    {
      "cell_type": "markdown",
      "id": "1d29090d",
      "metadata": {
        "id": "1d29090d"
      },
      "source": [
        "На первый взгляд могло показаться, что наше решение даже быстрее, чем коробочное, но, если посмотреть внимательнее, то видно, что решение из sklearn работает за **МИКРОСЕКУНДЫ**. Наше же решение дольше на целые порядки.\n",
        "\n",
        "Поэтому, нужно это исправлять."
      ]
    },
    {
      "cell_type": "markdown",
      "id": "85443c3a",
      "metadata": {
        "id": "85443c3a"
      },
      "source": [
        "Как выше выяснилось, наша реализация является не самой эффективной в плане скорости выполнения и используемой памяти.\n",
        "\n",
        "С помощью [numpy broadcasting](https://numpy.org/doc/stable/user/basics.broadcasting.html) и векторизации вычислимых функций в `numpy`, сделайте реализацию нашего метода `predict()` более эффективной и быстрой.\n",
        "\n",
        "Это может потребовать изменение архитектуры и изменения реализации метода `predict()` полностью.\n",
        "\n",
        "Для простоты, можно ужать функционал и оставить только одну метрику, так как иначе реализация кода для нескольких метрик, или тем более в общем случае для любой кастомной метрики расстояния, сделает решение слишком громоздким и сложным для понимания.\n",
        "\n",
        "В качестве датасета выберите датасет MNIST, а в качестве метрики используйте метрику Фробениуса (Фробениусову норму)."
      ]
    },
    {
      "cell_type": "code",
      "execution_count": null,
      "id": "722574ad",
      "metadata": {
        "id": "722574ad"
      },
      "outputs": [],
      "source": [
        "### YOUR CODE HERE...\n",
        "class OptimizedKNNClassifier(object):\n",
        "    pass"
      ]
    }
  ],
  "metadata": {
    "kernelspec": {
      "display_name": "Python 3 (ipykernel)",
      "language": "python",
      "name": "python3"
    },
    "language_info": {
      "codemirror_mode": {
        "name": "ipython",
        "version": 3
      },
      "file_extension": ".py",
      "mimetype": "text/x-python",
      "name": "python",
      "nbconvert_exporter": "python",
      "pygments_lexer": "ipython3",
      "version": "3.10.6"
    },
    "colab": {
      "provenance": []
    }
  },
  "nbformat": 4,
  "nbformat_minor": 5
}